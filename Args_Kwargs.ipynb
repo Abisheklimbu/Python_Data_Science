{
 "cells": [
  {
   "cell_type": "markdown",
   "id": "72a2f9b2",
   "metadata": {},
   "source": [
    "**arbitary arguments (args):** it can receive, any number of arguments. store in form of tuples. "
   ]
  },
  {
   "cell_type": "code",
   "execution_count": 7,
   "id": "156643fe",
   "metadata": {},
   "outputs": [],
   "source": [
    "def random_func(*args):\n",
    "    print(args)\n",
    "    print(type(args))\n",
    "    \n",
    "    for i in args:\n",
    "        print(i)"
   ]
  },
  {
   "cell_type": "code",
   "execution_count": 8,
   "id": "42c7fc4f",
   "metadata": {},
   "outputs": [
    {
     "name": "stdout",
     "output_type": "stream",
     "text": [
      "(1, 2, 3, 4, 5, 6)\n",
      "<class 'tuple'>\n",
      "1\n",
      "2\n",
      "3\n",
      "4\n",
      "5\n",
      "6\n"
     ]
    }
   ],
   "source": [
    "random_func(1,2,3,4,5,6)"
   ]
  },
  {
   "cell_type": "code",
   "execution_count": null,
   "id": "096fc3ae",
   "metadata": {},
   "outputs": [],
   "source": []
  },
  {
   "cell_type": "markdown",
   "id": "69d906a2",
   "metadata": {},
   "source": [
    "**keyword arguments (kwargs) :** it also takes any any number of arguments and stores in form of dictionary. parameter name is mandatory while calling function"
   ]
  },
  {
   "cell_type": "code",
   "execution_count": 19,
   "id": "4d02f5cb",
   "metadata": {},
   "outputs": [],
   "source": [
    "def intro(**kwargs):\n",
    "    print(kwargs)\n",
    "    print(type(kwargs))\n",
    "    print()\n",
    "    \n",
    "    for k,v in kwargs.items():\n",
    "        print(k,\":\",v)"
   ]
  },
  {
   "cell_type": "code",
   "execution_count": 20,
   "id": "0ac4ddf0",
   "metadata": {},
   "outputs": [
    {
     "name": "stdout",
     "output_type": "stream",
     "text": [
      "{'Name': 'Abishek', 'Hobby': 'Coding'}\n",
      "<class 'dict'>\n",
      "\n",
      "Name : Abishek\n",
      "Hobby : Coding\n"
     ]
    }
   ],
   "source": [
    "intro(Name=\"Abishek\", Hobby=\"Coding\")"
   ]
  },
  {
   "cell_type": "code",
   "execution_count": null,
   "id": "9b94a8e9",
   "metadata": {},
   "outputs": [],
   "source": []
  }
 ],
 "metadata": {
  "kernelspec": {
   "display_name": "Python 3 (ipykernel)",
   "language": "python",
   "name": "python3"
  },
  "language_info": {
   "codemirror_mode": {
    "name": "ipython",
    "version": 3
   },
   "file_extension": ".py",
   "mimetype": "text/x-python",
   "name": "python",
   "nbconvert_exporter": "python",
   "pygments_lexer": "ipython3",
   "version": "3.11.7"
  }
 },
 "nbformat": 4,
 "nbformat_minor": 5
}
