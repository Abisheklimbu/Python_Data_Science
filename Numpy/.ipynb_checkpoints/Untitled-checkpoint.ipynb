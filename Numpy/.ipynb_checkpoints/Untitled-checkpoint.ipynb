{
 "cells": [
  {
   "cell_type": "markdown",
   "id": "eb37463d",
   "metadata": {},
   "source": [
    "**Numpy**\n",
    "- Numpy is a numerical computing library for python.\n",
    "- Numpy support multi dimensional arrays and matrices\n",
    "- It has a lot of in-built mathematical functions\n",
    "\n",
    "**Why Numpy ?**\n",
    "- performs fast operations (because of Vectorization)\n",
    "- numpy arrays can be treated as vectors and matrices from linear algebra"
   ]
  },
  {
   "cell_type": "code",
   "execution_count": 3,
   "id": "00e37234",
   "metadata": {},
   "outputs": [
    {
     "name": "stdout",
     "output_type": "stream",
     "text": [
      "Requirement already satisfied: numpy in /opt/anaconda3/lib/python3.11/site-packages (1.26.4)\r\n"
     ]
    }
   ],
   "source": [
    "# Installing numpy library \n",
    "!pip install numpy"
   ]
  },
  {
   "cell_type": "code",
   "execution_count": 4,
   "id": "2844b2b7",
   "metadata": {},
   "outputs": [],
   "source": [
    "# Importing numpy as np \n",
    "import numpy as np "
   ]
  },
  {
   "cell_type": "code",
   "execution_count": 11,
   "id": "0ea49b0f",
   "metadata": {},
   "outputs": [
    {
     "name": "stdout",
     "output_type": "stream",
     "text": [
      "287 ns ± 0.726 ns per loop (mean ± std. dev. of 7 runs, 1,000,000 loops each)\n",
      "New Square List: [1, 4, 9, 16, 25, 36, 49, 64, 81, 100]\n"
     ]
    }
   ],
   "source": [
    "# It take 287 nano seconds for calculation \n",
    "lst = [1,2,3,4,5,6,7,8,9,10]\n",
    "%timeit square_lst = [i**2 for i in lst]\n",
    "print(\"New Square List:\",square_lst)"
   ]
  },
  {
   "cell_type": "code",
   "execution_count": 15,
   "id": "3f839e04",
   "metadata": {},
   "outputs": [
    {
     "name": "stdout",
     "output_type": "stream",
     "text": [
      "229 ns ± 1.75 ns per loop (mean ± std. dev. of 7 runs, 1,000,000 loops each)\n",
      "New Square Array: [  1   4   9  16  25  36  49  64  81 100]\n"
     ]
    }
   ],
   "source": [
    "# Finding calculation time of calulating square of list using array\n",
    "lst_array = np.array(lst)\n",
    "lst_array\n",
    "%timeit square_array = lst_array ** 2\n",
    "print(\"New Square Array:\", square_array)\n",
    "# Using array it takes 229 nano sceonds for calculation it means array is faster than list "
   ]
  },
  {
   "cell_type": "code",
   "execution_count": 16,
   "id": "222b71a0",
   "metadata": {},
   "outputs": [
    {
     "ename": "TypeError",
     "evalue": "can only concatenate list (not \"int\") to list",
     "output_type": "error",
     "traceback": [
      "\u001b[0;31m---------------------------------------------------------------------------\u001b[0m",
      "\u001b[0;31mTypeError\u001b[0m                                 Traceback (most recent call last)",
      "Cell \u001b[0;32mIn[16], line 2\u001b[0m\n\u001b[1;32m      1\u001b[0m \u001b[38;5;66;03m# if we want add 1 to each elements in list it doesnot allow. \u001b[39;00m\n\u001b[0;32m----> 2\u001b[0m new_list \u001b[38;5;241m=\u001b[39m lst \u001b[38;5;241m+\u001b[39m \u001b[38;5;241m1\u001b[39m\n",
      "\u001b[0;31mTypeError\u001b[0m: can only concatenate list (not \"int\") to list"
     ]
    }
   ],
   "source": [
    "# if we want add 1 to each elements in list it doesnot allow. \n",
    "new_list = lst + 1"
   ]
  },
  {
   "cell_type": "code",
   "execution_count": 18,
   "id": "b940abe9",
   "metadata": {},
   "outputs": [
    {
     "name": "stdout",
     "output_type": "stream",
     "text": [
      "Added 1 array: [ 2  3  4  5  6  7  8  9 10 11]\n"
     ]
    }
   ],
   "source": [
    "# if we want add 1 to each elements in arrayt it allow. \n",
    "new_array = lst_array + 1\n",
    "print(\"Added 1 array:\", new_array)"
   ]
  },
  {
   "cell_type": "code",
   "execution_count": null,
   "id": "63ea09fe",
   "metadata": {},
   "outputs": [],
   "source": []
  }
 ],
 "metadata": {
  "kernelspec": {
   "display_name": "Python 3 (ipykernel)",
   "language": "python",
   "name": "python3"
  },
  "language_info": {
   "codemirror_mode": {
    "name": "ipython",
    "version": 3
   },
   "file_extension": ".py",
   "mimetype": "text/x-python",
   "name": "python",
   "nbconvert_exporter": "python",
   "pygments_lexer": "ipython3",
   "version": "3.11.7"
  }
 },
 "nbformat": 4,
 "nbformat_minor": 5
}
