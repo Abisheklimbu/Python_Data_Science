{
 "cells": [
  {
   "cell_type": "markdown",
   "id": "af66a90c",
   "metadata": {},
   "source": [
    "**Numpy**\n",
    "- Numpy is a numerical computing library for python.\n",
    "- Numpy support multi dimensional arrays and matrices\n",
    "- It has a lot of in-built mathematical functions\n",
    "\n",
    "**Why Numpy ?**\n",
    "- performs fast operations (because of Vectorization)\n",
    "- numpy arrays can be treated as vectors and matrices from linear algebra"
   ]
  },
  {
   "cell_type": "code",
   "execution_count": 1,
   "id": "d5be7d4a",
   "metadata": {},
   "outputs": [
    {
     "name": "stdout",
     "output_type": "stream",
     "text": [
      "Requirement already satisfied: numpy in /opt/anaconda3/lib/python3.11/site-packages (1.26.4)\r\n"
     ]
    }
   ],
   "source": [
    "# Installing numpy library \n",
    "!pip install numpy"
   ]
  },
  {
   "cell_type": "code",
   "execution_count": 2,
   "id": "4cfc6163",
   "metadata": {},
   "outputs": [],
   "source": [
    "# Importing numpy as np \n",
    "import numpy as np "
   ]
  },
  {
   "cell_type": "code",
   "execution_count": 5,
   "id": "1e9162a2",
   "metadata": {},
   "outputs": [
    {
     "name": "stdout",
     "output_type": "stream",
     "text": [
      "287 ns ± 2.31 ns per loop (mean ± std. dev. of 7 runs, 1,000,000 loops each)\n"
     ]
    }
   ],
   "source": [
    "# It take 287 nano seconds for calculation \n",
    "lst = [1,2,3,4,5,6,7,8,9,10]\n",
    "%timeit [i**2 for i in lst]\n"
   ]
  },
  {
   "cell_type": "code",
   "execution_count": null,
   "id": "76e72d67",
   "metadata": {},
   "outputs": [],
   "source": [
    "# Finding calculation time of calulating square of list using array\n",
    "lst_array = np.array(lst)\n",
    "lst_array\n",
    "%timeit square_array = lst_array ** 2\n",
    "print(\"New Square Array:\", square_array)\n",
    "# Using array it takes 229 nano sceonds for calculation it means array is faster than list "
   ]
  },
  {
   "cell_type": "code",
   "execution_count": null,
   "id": "adfb0ec3",
   "metadata": {},
   "outputs": [],
   "source": [
    "# if we want add 1 to each elements in list it doesnot allow. \n",
    "new_list = lst + 1"
   ]
  },
  {
   "cell_type": "code",
   "execution_count": null,
   "id": "c5ddf884",
   "metadata": {},
   "outputs": [],
   "source": [
    "# if we want add 1 to each elements in arrayt it allow. \n",
    "new_array = lst_array + 1\n",
    "print(\"Added 1 array:\", new_array)"
   ]
  },
  {
   "cell_type": "code",
   "execution_count": null,
   "id": "8e439a2a",
   "metadata": {},
   "outputs": [],
   "source": []
  },
  {
   "cell_type": "markdown",
   "id": "f0da4d8d",
   "metadata": {},
   "source": [
    "\n",
    "**Numpy Basics**\n",
    "array: Fundamental element in numpy is homogenous array. Numpy Arrays can be 1D, 2D, 3D... nD\n",
    "- Different ways to create np array\n",
    "1. np.array ( )\n",
    "2. np.arange ()\n",
    "3. np.linspace()"
   ]
  },
  {
   "cell_type": "markdown",
   "id": "2c749334",
   "metadata": {},
   "source": [
    "**USING np.array()**"
   ]
  },
  {
   "cell_type": "code",
   "execution_count": null,
   "id": "5c48a1f9",
   "metadata": {},
   "outputs": [],
   "source": [
    "list_ = [1,2,3,4,5,6,7,8,9]\n",
    "list_array = np.array(list_)\n",
    "list_array"
   ]
  },
  {
   "cell_type": "code",
   "execution_count": null,
   "id": "fc9a3ed8",
   "metadata": {},
   "outputs": [],
   "source": [
    "# Finding dimension of array\n",
    "print(\"Dimension of above array is\",list_array.ndim)"
   ]
  },
  {
   "cell_type": "code",
   "execution_count": null,
   "id": "b4c056c5",
   "metadata": {},
   "outputs": [],
   "source": [
    "# finding shape of array\n",
    "print(\"Shape of above array is\",list_array.shape)"
   ]
  },
  {
   "cell_type": "code",
   "execution_count": null,
   "id": "c8e5daa6",
   "metadata": {},
   "outputs": [],
   "source": [
    "# finding size of array\n",
    "print(\"Shape of above array is\",list_array.size)"
   ]
  },
  {
   "cell_type": "code",
   "execution_count": null,
   "id": "acefcf0e",
   "metadata": {},
   "outputs": [],
   "source": []
  },
  {
   "cell_type": "markdown",
   "id": "58f2bf3e",
   "metadata": {},
   "source": [
    "**USING np.arange()**"
   ]
  },
  {
   "cell_type": "code",
   "execution_count": null,
   "id": "07fe73b5",
   "metadata": {},
   "outputs": [],
   "source": [
    "new_array = np.arange(1,11)\n",
    "new_array"
   ]
  },
  {
   "cell_type": "code",
   "execution_count": null,
   "id": "25d3f2dc",
   "metadata": {},
   "outputs": [],
   "source": [
    "# Dimesion\n",
    "new_array.ndim"
   ]
  },
  {
   "cell_type": "code",
   "execution_count": null,
   "id": "860767d6",
   "metadata": {},
   "outputs": [],
   "source": [
    "# shape\n",
    "new_array.shape"
   ]
  },
  {
   "cell_type": "code",
   "execution_count": null,
   "id": "5ec10ae3",
   "metadata": {},
   "outputs": [],
   "source": [
    "# size\n",
    "new_array.size"
   ]
  },
  {
   "cell_type": "code",
   "execution_count": null,
   "id": "07613386",
   "metadata": {},
   "outputs": [],
   "source": []
  },
  {
   "cell_type": "markdown",
   "id": "80718eb3",
   "metadata": {},
   "source": [
    "**USING np.linspace()** (0,100,3) = (100/3-1)"
   ]
  },
  {
   "cell_type": "code",
   "execution_count": null,
   "id": "948afc48",
   "metadata": {},
   "outputs": [],
   "source": [
    "new_array1 = np.linspace(0,100,3)\n",
    "new_array1"
   ]
  },
  {
   "cell_type": "code",
   "execution_count": null,
   "id": "13e4b871",
   "metadata": {},
   "outputs": [],
   "source": []
  },
  {
   "cell_type": "code",
   "execution_count": null,
   "id": "08a60e21",
   "metadata": {},
   "outputs": [],
   "source": [
    "# Creating two dimensional array \n",
    "twoD_array = np.array([[1,2,3],[4,5,6],[7,8,9]])\n",
    "twoD_array"
   ]
  },
  {
   "cell_type": "code",
   "execution_count": null,
   "id": "b977a9a2",
   "metadata": {},
   "outputs": [],
   "source": [
    "# Finding dimension of array\n",
    "twoD_array.ndim"
   ]
  },
  {
   "cell_type": "code",
   "execution_count": null,
   "id": "7d026038",
   "metadata": {},
   "outputs": [],
   "source": [
    "# finding shape of array\n",
    "twoD_array.shape"
   ]
  },
  {
   "cell_type": "code",
   "execution_count": null,
   "id": "cb6d058d",
   "metadata": {},
   "outputs": [],
   "source": [
    "# finding size of array\n",
    "twoD_array.size"
   ]
  },
  {
   "cell_type": "code",
   "execution_count": null,
   "id": "a917c1e3",
   "metadata": {},
   "outputs": [],
   "source": []
  },
  {
   "cell_type": "code",
   "execution_count": null,
   "id": "5efad784",
   "metadata": {},
   "outputs": [],
   "source": [
    "# Creating zeros array\n",
    "zero_array = np.zeros((4,2), dtype=int)\n",
    "zero_array"
   ]
  },
  {
   "cell_type": "code",
   "execution_count": null,
   "id": "a25a1d5a",
   "metadata": {},
   "outputs": [],
   "source": [
    "# Creating one array\n",
    "ones_array = np.ones((3,4), dtype=int)\n",
    "ones_array"
   ]
  },
  {
   "cell_type": "code",
   "execution_count": null,
   "id": "e45e364e",
   "metadata": {},
   "outputs": [],
   "source": [
    "# Creating empty array\n",
    "empty_array = np.empty((3,2), dtype= int)\n",
    "empty_array"
   ]
  },
  {
   "cell_type": "code",
   "execution_count": null,
   "id": "99816c6d",
   "metadata": {},
   "outputs": [],
   "source": [
    "# Creating random array\n",
    "random_array = np.random.rand(3)\n",
    "random_array"
   ]
  },
  {
   "cell_type": "code",
   "execution_count": null,
   "id": "0ded80d2",
   "metadata": {},
   "outputs": [],
   "source": []
  },
  {
   "cell_type": "markdown",
   "id": "70f6802f",
   "metadata": {},
   "source": [
    "**INDEXING**"
   ]
  },
  {
   "cell_type": "code",
   "execution_count": null,
   "id": "0bc91cfa",
   "metadata": {},
   "outputs": [],
   "source": [
    "array = np.random.randint(1,100,(5,4))\n",
    "array"
   ]
  },
  {
   "cell_type": "code",
   "execution_count": null,
   "id": "ba2356e9",
   "metadata": {},
   "outputs": [],
   "source": [
    "# First row \n",
    "array[0]"
   ]
  },
  {
   "cell_type": "code",
   "execution_count": null,
   "id": "3f9620f0",
   "metadata": {},
   "outputs": [],
   "source": [
    "# second last row \n",
    "array[-2]"
   ]
  },
  {
   "cell_type": "code",
   "execution_count": null,
   "id": "4e8a47dc",
   "metadata": {},
   "outputs": [],
   "source": [
    "# first element\n",
    "print(\"First Element:\",array[0,0])\n",
    "\n",
    "# last element\n",
    "print(\"Last Element:\",array[-1,-1])"
   ]
  },
  {
   "cell_type": "code",
   "execution_count": null,
   "id": "1725c1d6",
   "metadata": {},
   "outputs": [],
   "source": []
  },
  {
   "cell_type": "markdown",
   "id": "fe37fcfc",
   "metadata": {},
   "source": [
    "**SLICING**\n",
    "1. arrl start_ row_idx : end row idx + 1, start_col _idx : end _col _idx+1]"
   ]
  },
  {
   "cell_type": "code",
   "execution_count": null,
   "id": "19d89f8f",
   "metadata": {},
   "outputs": [],
   "source": [
    "new_array = array\n",
    "new_array"
   ]
  },
  {
   "cell_type": "code",
   "execution_count": null,
   "id": "d067716a",
   "metadata": {},
   "outputs": [],
   "source": [
    "# 3rd row to last row and 4th column to 5th column \n",
    "new_array[2:5, 2:5]"
   ]
  },
  {
   "cell_type": "code",
   "execution_count": null,
   "id": "24598e7e",
   "metadata": {},
   "outputs": [],
   "source": [
    "# 3rd row to last row and 1st column to last column \n",
    "new_array[2: , 0:]"
   ]
  },
  {
   "cell_type": "code",
   "execution_count": null,
   "id": "ec6bb93d",
   "metadata": {},
   "outputs": [],
   "source": [
    "# third column only \n",
    "new_array[ :,2]"
   ]
  },
  {
   "cell_type": "code",
   "execution_count": null,
   "id": "c206a6b6",
   "metadata": {},
   "outputs": [],
   "source": [
    "# upto third row\n",
    "new_array[:3]"
   ]
  },
  {
   "cell_type": "code",
   "execution_count": null,
   "id": "2d3cfb96",
   "metadata": {},
   "outputs": [],
   "source": [
    "# changing element value \n",
    "new_array[0,0] = 46\n",
    "new_array"
   ]
  },
  {
   "cell_type": "code",
   "execution_count": null,
   "id": "d09bc68d",
   "metadata": {},
   "outputs": [],
   "source": [
    "# Total elements\n",
    "new_array.size"
   ]
  },
  {
   "cell_type": "code",
   "execution_count": null,
   "id": "6a79eb75",
   "metadata": {},
   "outputs": [],
   "source": [
    "# Masking \n",
    "mask = new_array > 50\n",
    "print(mask)"
   ]
  },
  {
   "cell_type": "code",
   "execution_count": null,
   "id": "7d1d3b8b",
   "metadata": {},
   "outputs": [],
   "source": [
    "# Elements that are greater than 50\n",
    "np.sum(mask)"
   ]
  },
  {
   "cell_type": "code",
   "execution_count": null,
   "id": "d480b95a",
   "metadata": {},
   "outputs": [],
   "source": [
    "# listing elemts that are greater than 50\n",
    "new_array[mask]"
   ]
  },
  {
   "cell_type": "code",
   "execution_count": null,
   "id": "941bb96a",
   "metadata": {},
   "outputs": [],
   "source": []
  },
  {
   "cell_type": "markdown",
   "id": "88da90ac",
   "metadata": {},
   "source": [
    "**Operations in numpy array**"
   ]
  },
  {
   "cell_type": "code",
   "execution_count": null,
   "id": "5f426dc2",
   "metadata": {},
   "outputs": [],
   "source": [
    "a = np.arange(1,10)\n",
    "b = np.arange(10,19)\n"
   ]
  },
  {
   "cell_type": "code",
   "execution_count": null,
   "id": "58bbcf63",
   "metadata": {},
   "outputs": [],
   "source": [
    "a"
   ]
  },
  {
   "cell_type": "code",
   "execution_count": null,
   "id": "25615436",
   "metadata": {},
   "outputs": [],
   "source": [
    "b"
   ]
  },
  {
   "cell_type": "code",
   "execution_count": null,
   "id": "5c632b7f",
   "metadata": {},
   "outputs": [],
   "source": [
    "# sum\n",
    "sum_array = a + b\n",
    "sum_array"
   ]
  },
  {
   "cell_type": "code",
   "execution_count": null,
   "id": "f2550aa9",
   "metadata": {},
   "outputs": [],
   "source": [
    "# difference \n",
    "sub_array = b - a\n",
    "sub_array"
   ]
  },
  {
   "cell_type": "code",
   "execution_count": null,
   "id": "5c0cdd07",
   "metadata": {},
   "outputs": [],
   "source": [
    "# multiply\n",
    "mult_array = a * b\n",
    "mult_array"
   ]
  },
  {
   "cell_type": "code",
   "execution_count": null,
   "id": "3d0ab07f",
   "metadata": {},
   "outputs": [],
   "source": [
    "# square of a each elements \n",
    "sq_array = a**2\n",
    "print(sq_array)"
   ]
  },
  {
   "cell_type": "code",
   "execution_count": null,
   "id": "2cde291b",
   "metadata": {},
   "outputs": [],
   "source": [
    "# Now operation on (3*3) matrices\n",
    "new_a = a.reshape(3,3)\n",
    "new_b = b.reshape(3,3)"
   ]
  },
  {
   "cell_type": "code",
   "execution_count": null,
   "id": "e7f39e66",
   "metadata": {},
   "outputs": [],
   "source": [
    "new_a"
   ]
  },
  {
   "cell_type": "code",
   "execution_count": null,
   "id": "97254c62",
   "metadata": {},
   "outputs": [],
   "source": [
    "new_b"
   ]
  },
  {
   "cell_type": "code",
   "execution_count": null,
   "id": "06e1d933",
   "metadata": {},
   "outputs": [],
   "source": [
    "# operation\n",
    "sum_ = new_a + new_b\n",
    "sum_\n"
   ]
  },
  {
   "cell_type": "code",
   "execution_count": null,
   "id": "524e9db8",
   "metadata": {},
   "outputs": [],
   "source": [
    "subtract_ = new_b - new_a\n",
    "subtract_"
   ]
  },
  {
   "cell_type": "code",
   "execution_count": null,
   "id": "0a44a3bc",
   "metadata": {},
   "outputs": [],
   "source": [
    "multiply_ = new_a * new_b\n",
    "multiply_"
   ]
  },
  {
   "cell_type": "code",
   "execution_count": null,
   "id": "9e0d9dc1",
   "metadata": {},
   "outputs": [],
   "source": []
  },
  {
   "cell_type": "code",
   "execution_count": null,
   "id": "9697909a",
   "metadata": {},
   "outputs": [],
   "source": [
    "new_a"
   ]
  },
  {
   "cell_type": "code",
   "execution_count": null,
   "id": "39193c13",
   "metadata": {},
   "outputs": [],
   "source": [
    "new_b"
   ]
  },
  {
   "cell_type": "code",
   "execution_count": null,
   "id": "507878ea",
   "metadata": {},
   "outputs": [],
   "source": [
    "# masking in new_a matrix \n",
    "mask = new_a > 5\n",
    "print(mask)"
   ]
  },
  {
   "cell_type": "code",
   "execution_count": null,
   "id": "7c958243",
   "metadata": {},
   "outputs": [],
   "source": [
    "np.sum(mask)"
   ]
  },
  {
   "cell_type": "code",
   "execution_count": null,
   "id": "e7cad7f8",
   "metadata": {},
   "outputs": [],
   "source": [
    "np.log(new_a)"
   ]
  },
  {
   "cell_type": "code",
   "execution_count": null,
   "id": "e1865851",
   "metadata": {},
   "outputs": [],
   "source": [
    "np.sin(new_a)"
   ]
  },
  {
   "cell_type": "markdown",
   "id": "5238a5a8",
   "metadata": {},
   "source": [
    "**Matrix Dot Product**"
   ]
  },
  {
   "cell_type": "code",
   "execution_count": null,
   "id": "8bc835d2",
   "metadata": {},
   "outputs": [],
   "source": [
    "new_a"
   ]
  },
  {
   "cell_type": "code",
   "execution_count": null,
   "id": "c561ff0e",
   "metadata": {},
   "outputs": [],
   "source": [
    "new_b"
   ]
  },
  {
   "cell_type": "code",
   "execution_count": null,
   "id": "e491e4a3",
   "metadata": {},
   "outputs": [],
   "source": [
    "# How dot product works\n",
    "'''\n",
    "[ 1*10+2*13+3*16  1*11+2*14+3*17  1*12+2*15+3*18]\n",
    "[ 4*10+5*13+6*16  4*11+5*14+6*17  4*12+5*15+6*18]\n",
    "[ 7*10+8*13+9*16  7*11+8*14+9*17  7*12+8*15+9*18] \n",
    "\n",
    "columns of first matrix must match with rows of second matux to perform dot product.\n",
    "result take number of rows from first matrix and columns from second matrix\n",
    "'''"
   ]
  },
  {
   "cell_type": "code",
   "execution_count": null,
   "id": "1b06c0a7",
   "metadata": {},
   "outputs": [],
   "source": [
    "product = np.dot(new_a, new_b)\n",
    "print(product)"
   ]
  },
  {
   "cell_type": "code",
   "execution_count": null,
   "id": "dedd173c",
   "metadata": {},
   "outputs": [],
   "source": []
  },
  {
   "cell_type": "code",
   "execution_count": null,
   "id": "5ead6023",
   "metadata": {},
   "outputs": [],
   "source": [
    "new_a"
   ]
  },
  {
   "cell_type": "code",
   "execution_count": null,
   "id": "6274b0dc",
   "metadata": {},
   "outputs": [],
   "source": [
    "# square root of new_a matrix\n",
    "np.sqrt(new_a)"
   ]
  },
  {
   "cell_type": "code",
   "execution_count": null,
   "id": "746ef13e",
   "metadata": {},
   "outputs": [],
   "source": [
    "# sum\n",
    "np.sum(new_a)"
   ]
  },
  {
   "cell_type": "code",
   "execution_count": null,
   "id": "8c7c49cd",
   "metadata": {},
   "outputs": [],
   "source": [
    "# maximum\n",
    "np.max(new_a)"
   ]
  },
  {
   "cell_type": "code",
   "execution_count": null,
   "id": "cc4c3116",
   "metadata": {},
   "outputs": [],
   "source": [
    "# minimum\n",
    "np.min(new_a)"
   ]
  },
  {
   "cell_type": "code",
   "execution_count": null,
   "id": "3c8119ac",
   "metadata": {},
   "outputs": [],
   "source": [
    "# mean\n",
    "np.mean(new_a)"
   ]
  },
  {
   "cell_type": "code",
   "execution_count": null,
   "id": "fe1a79c8",
   "metadata": {},
   "outputs": [],
   "source": [
    "# standard deviation\n",
    "np.std(new_a)"
   ]
  },
  {
   "cell_type": "code",
   "execution_count": null,
   "id": "3c28dcc1",
   "metadata": {},
   "outputs": [],
   "source": [
    "# sum all by column wise\n",
    "np.sum(new_a, axis=0)"
   ]
  },
  {
   "cell_type": "code",
   "execution_count": null,
   "id": "06bdb9ab",
   "metadata": {},
   "outputs": [],
   "source": [
    "# sum all by rows wise\n",
    "np.sum(new_a, axis=1)"
   ]
  },
  {
   "cell_type": "code",
   "execution_count": null,
   "id": "6b816098",
   "metadata": {},
   "outputs": [],
   "source": [
    "# Mean by column wise\n",
    "np.mean(new_a, axis=0)"
   ]
  },
  {
   "cell_type": "code",
   "execution_count": null,
   "id": "07b6c79d",
   "metadata": {},
   "outputs": [],
   "source": [
    "# Mean by rows wise\n",
    "np.mean(new_a, axis=1)"
   ]
  },
  {
   "cell_type": "code",
   "execution_count": null,
   "id": "d3c53a68",
   "metadata": {},
   "outputs": [],
   "source": []
  },
  {
   "cell_type": "markdown",
   "id": "9ed01a30",
   "metadata": {},
   "source": [
    "**Shape Manupulation**"
   ]
  },
  {
   "cell_type": "code",
   "execution_count": 15,
   "id": "8fd24c26",
   "metadata": {},
   "outputs": [
    {
     "name": "stdout",
     "output_type": "stream",
     "text": [
      "[ 0  1  2  3  4  5  6  7  8  9 10 11 12 13 14 15 16 17 18 19 20 21 22 23]\n"
     ]
    }
   ],
   "source": [
    "A = np.arange(0,24)\n",
    "print(A)"
   ]
  },
  {
   "cell_type": "code",
   "execution_count": 16,
   "id": "e23b4621",
   "metadata": {},
   "outputs": [
    {
     "name": "stdout",
     "output_type": "stream",
     "text": [
      "[[ 0  1  2  3]\n",
      " [ 4  5  6  7]\n",
      " [ 8  9 10 11]\n",
      " [12 13 14 15]\n",
      " [16 17 18 19]\n",
      " [20 21 22 23]]\n"
     ]
    }
   ],
   "source": [
    "# reshaping \n",
    "array = A.reshape(6,4)\n",
    "print(array)"
   ]
  },
  {
   "cell_type": "code",
   "execution_count": 19,
   "id": "797ad061",
   "metadata": {},
   "outputs": [
    {
     "name": "stdout",
     "output_type": "stream",
     "text": [
      "[ 0  1  2  3  4  5  6  7  8  9 10 11 12 13 14 15 16 17 18 19 20 21 22 23]\n"
     ]
    }
   ],
   "source": [
    "# flatten: converting array into 1 dimensional array. \n",
    "one_d_array = A.flatten()\n",
    "print(one_d_array)"
   ]
  },
  {
   "cell_type": "code",
   "execution_count": 47,
   "id": "a30a332b",
   "metadata": {},
   "outputs": [
    {
     "name": "stdout",
     "output_type": "stream",
     "text": [
      "[[ 0  1  2  3]\n",
      " [ 4  5  6  7]\n",
      " [ 8  9 10 11]\n",
      " [12 13 14 15]\n",
      " [16 17 18 19]\n",
      " [20 21 22 23]]\n",
      "\n",
      "Transpose of array:\n",
      " [[ 0  4  8 12 16 20]\n",
      " [ 1  5  9 13 17 21]\n",
      " [ 2  6 10 14 18 22]\n",
      " [ 3  7 11 15 19 23]]\n"
     ]
    }
   ],
   "source": [
    "# Transpose: Changing columns into rows and rows into columns\n",
    "print(array)\n",
    "print(\"\\nTranspose of array:\\n\",array.T)"
   ]
  },
  {
   "cell_type": "code",
   "execution_count": 29,
   "id": "9e2776ac",
   "metadata": {},
   "outputs": [
    {
     "name": "stdout",
     "output_type": "stream",
     "text": [
      "[[7 9]\n",
      " [8 9]\n",
      " [1 3]]\n",
      "\n",
      "[[10  8]\n",
      " [ 7  0]\n",
      " [ 6  2]]\n"
     ]
    }
   ],
   "source": [
    "# Random array\n",
    "a = np.random.randint(0,11,(3,2))\n",
    "b = np.random.randint(0,11,(3,2))\n",
    "print(a)\n",
    "print()\n",
    "print(b)"
   ]
  },
  {
   "cell_type": "code",
   "execution_count": 32,
   "id": "8cdc8c1e",
   "metadata": {},
   "outputs": [
    {
     "name": "stdout",
     "output_type": "stream",
     "text": [
      "[[ 7  9]\n",
      " [ 8  9]\n",
      " [ 1  3]\n",
      " [10  8]\n",
      " [ 7  0]\n",
      " [ 6  2]]\n"
     ]
    }
   ],
   "source": [
    "# Vstack: Putting a and b vertically\n",
    "v_stack = np.vstack((a,b))\n",
    "print(v_stack)"
   ]
  },
  {
   "cell_type": "code",
   "execution_count": 33,
   "id": "b18b3805",
   "metadata": {},
   "outputs": [
    {
     "name": "stdout",
     "output_type": "stream",
     "text": [
      "[[ 7  9 10  8]\n",
      " [ 8  9  7  0]\n",
      " [ 1  3  6  2]]\n"
     ]
    }
   ],
   "source": [
    "# Hstack: putting a and b horizontally \n",
    "h_stack = np.hstack((a,b))\n",
    "print(h_stack)"
   ]
  },
  {
   "cell_type": "code",
   "execution_count": null,
   "id": "f868c94e",
   "metadata": {},
   "outputs": [],
   "source": []
  },
  {
   "cell_type": "markdown",
   "id": "947f1b93",
   "metadata": {},
   "source": [
    "**Broadcasting**\n",
    "- First Rule of Numpy: 2 Arrays can performs opertions only when they have same shapes\n",
    "- broadcasting let two arrays of different shapes to do some operations.\n",
    "    - A small array will repeat itself, and convert to the same shape as of another array."
   ]
  },
  {
   "cell_type": "code",
   "execution_count": 51,
   "id": "bcdc4959",
   "metadata": {},
   "outputs": [
    {
     "name": "stdout",
     "output_type": "stream",
     "text": [
      "[[5 7 0]\n",
      " [1 0 9]\n",
      " [0 0 0]]\n",
      "\n",
      "[[1 2 3]]\n"
     ]
    }
   ],
   "source": [
    "A = np.random.randint(0,10,size=(3,3))\n",
    "B = np.array([[1,2,3]])\n",
    "print(A)\n",
    "print()\n",
    "print(B)"
   ]
  },
  {
   "cell_type": "code",
   "execution_count": 52,
   "id": "003e0026",
   "metadata": {},
   "outputs": [
    {
     "name": "stdout",
     "output_type": "stream",
     "text": [
      "[[ 6  9  3]\n",
      " [ 2  2 12]\n",
      " [ 1  2  3]]\n"
     ]
    }
   ],
   "source": [
    "# A and B is not same type of matrix but through broadcasting we can calculate two matrix A and B. \n",
    "# Boardcasting make B into 3x3 matrix by copying elements ([1,2,3],[1,2,3],[1,2,3])\n",
    "C = A + B\n",
    "print(C)"
   ]
  },
  {
   "cell_type": "code",
   "execution_count": 53,
   "id": "4e2f1c1d",
   "metadata": {},
   "outputs": [
    {
     "data": {
      "text/plain": [
       "array([[1],\n",
       "       [2],\n",
       "       [3]])"
      ]
     },
     "execution_count": 53,
     "metadata": {},
     "output_type": "execute_result"
    }
   ],
   "source": [
    "B.T"
   ]
  },
  {
   "cell_type": "code",
   "execution_count": 54,
   "id": "dce85cc5",
   "metadata": {},
   "outputs": [
    {
     "data": {
      "text/plain": [
       "array([[ 6,  8,  1],\n",
       "       [ 3,  2, 11],\n",
       "       [ 3,  3,  3]])"
      ]
     },
     "execution_count": 54,
     "metadata": {},
     "output_type": "execute_result"
    }
   ],
   "source": [
    "A + B.T"
   ]
  },
  {
   "cell_type": "code",
   "execution_count": 57,
   "id": "3a46b1f3",
   "metadata": {},
   "outputs": [
    {
     "name": "stdout",
     "output_type": "stream",
     "text": [
      "[[ 6  8  1]\n",
      " [ 2  1 10]\n",
      " [ 1  1  1]]\n"
     ]
    }
   ],
   "source": [
    "# A = [[5 7 0]\n",
    "#     [1 0 9]\n",
    "#     [0 0 0]]\n",
    "\n",
    "new_C = A + 1\n",
    "print(new_C)"
   ]
  },
  {
   "cell_type": "code",
   "execution_count": null,
   "id": "3beff6ac",
   "metadata": {},
   "outputs": [],
   "source": []
  },
  {
   "cell_type": "markdown",
   "id": "a071ed4b",
   "metadata": {},
   "source": [
    "**Vectorization**"
   ]
  },
  {
   "cell_type": "code",
   "execution_count": 68,
   "id": "2cdc64f7",
   "metadata": {},
   "outputs": [
    {
     "name": "stdout",
     "output_type": "stream",
     "text": [
      "a vector: [1 2]\n",
      "\n",
      "b vector: [5 5]\n"
     ]
    }
   ],
   "source": [
    "a = np.array([1,2])\n",
    "b = np.array([5,5])\n",
    "print(\"a vector:\",a)\n",
    "print(\"\\nb vector:\",b)"
   ]
  },
  {
   "cell_type": "code",
   "execution_count": 65,
   "id": "a8bd9b12",
   "metadata": {},
   "outputs": [
    {
     "name": "stdout",
     "output_type": "stream",
     "text": [
      "Distance between a and b vector is: 5.0\n"
     ]
    }
   ],
   "source": [
    "# how to find distance between a and b vector : formula = (x1-y2)**2 + (x2-y2)**2 whole under square root\n",
    "distance = np.sqrt(np.sum((b-a)**2))\n",
    "print(\"Distance between a and b vector is:\", distance)"
   ]
  },
  {
   "cell_type": "code",
   "execution_count": 77,
   "id": "7449b0be",
   "metadata": {},
   "outputs": [
    {
     "name": "stdout",
     "output_type": "stream",
     "text": [
      "A:\n",
      " [[1 2]\n",
      " [3 4]]\n",
      "\n",
      "B:\n",
      " [[5 6]\n",
      " [7 8]]\n"
     ]
    }
   ],
   "source": [
    "# Now 2 * 2 matrix/vector and note: you can do it up to n*n matrix/vector\n",
    "A = np.array([[1,2], [3,4]])\n",
    "B = np.array([[5,6], [7,8]])\n",
    "print(\"A:\\n\", A)\n",
    "print(\"\\nB:\\n\",B)"
   ]
  },
  {
   "cell_type": "code",
   "execution_count": 78,
   "id": "0b34e6bb",
   "metadata": {},
   "outputs": [
    {
     "name": "stdout",
     "output_type": "stream",
     "text": [
      "Distance between A and B vector is: 16.0\n"
     ]
    }
   ],
   "source": [
    "distance = np.sqrt(np.sum(B-A)**2)\n",
    "print(\"Distance between A and B vector is:\", distance)"
   ]
  },
  {
   "cell_type": "code",
   "execution_count": null,
   "id": "a661aaf3",
   "metadata": {},
   "outputs": [],
   "source": []
  }
 ],
 "metadata": {
  "kernelspec": {
   "display_name": "Python 3 (ipykernel)",
   "language": "python",
   "name": "python3"
  },
  "language_info": {
   "codemirror_mode": {
    "name": "ipython",
    "version": 3
   },
   "file_extension": ".py",
   "mimetype": "text/x-python",
   "name": "python",
   "nbconvert_exporter": "python",
   "pygments_lexer": "ipython3",
   "version": "3.11.7"
  }
 },
 "nbformat": 4,
 "nbformat_minor": 5
}
