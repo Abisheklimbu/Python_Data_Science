{
 "cells": [
  {
   "cell_type": "markdown",
   "id": "af66a90c",
   "metadata": {},
   "source": [
    "**Numpy**\n",
    "- Numpy is a numerical computing library for python.\n",
    "- Numpy support multi dimensional arrays and matrices\n",
    "- It has a lot of in-built mathematical functions\n",
    "\n",
    "**Why Numpy ?**\n",
    "- performs fast operations (because of Vectorization)\n",
    "- numpy arrays can be treated as vectors and matrices from linear algebra"
   ]
  },
  {
   "cell_type": "code",
   "execution_count": 3,
   "id": "d5be7d4a",
   "metadata": {},
   "outputs": [
    {
     "name": "stdout",
     "output_type": "stream",
     "text": [
      "Requirement already satisfied: numpy in /opt/anaconda3/lib/python3.11/site-packages (1.26.4)\r\n"
     ]
    }
   ],
   "source": [
    "# Installing numpy library \n",
    "!pip install numpy"
   ]
  },
  {
   "cell_type": "code",
   "execution_count": 4,
   "id": "4cfc6163",
   "metadata": {},
   "outputs": [],
   "source": [
    "# Importing numpy as np \n",
    "import numpy as np "
   ]
  },
  {
   "cell_type": "code",
   "execution_count": 11,
   "id": "1e9162a2",
   "metadata": {},
   "outputs": [
    {
     "name": "stdout",
     "output_type": "stream",
     "text": [
      "287 ns ± 0.726 ns per loop (mean ± std. dev. of 7 runs, 1,000,000 loops each)\n",
      "New Square List: [1, 4, 9, 16, 25, 36, 49, 64, 81, 100]\n"
     ]
    }
   ],
   "source": [
    "# It take 287 nano seconds for calculation \n",
    "lst = [1,2,3,4,5,6,7,8,9,10]\n",
    "%timeit square_lst = [i**2 for i in lst]\n",
    "print(\"New Square List:\",square_lst)"
   ]
  },
  {
   "cell_type": "code",
   "execution_count": 15,
   "id": "76e72d67",
   "metadata": {},
   "outputs": [
    {
     "name": "stdout",
     "output_type": "stream",
     "text": [
      "229 ns ± 1.75 ns per loop (mean ± std. dev. of 7 runs, 1,000,000 loops each)\n",
      "New Square Array: [  1   4   9  16  25  36  49  64  81 100]\n"
     ]
    }
   ],
   "source": [
    "# Finding calculation time of calulating square of list using array\n",
    "lst_array = np.array(lst)\n",
    "lst_array\n",
    "%timeit square_array = lst_array ** 2\n",
    "print(\"New Square Array:\", square_array)\n",
    "# Using array it takes 229 nano sceonds for calculation it means array is faster than list "
   ]
  },
  {
   "cell_type": "code",
   "execution_count": 16,
   "id": "adfb0ec3",
   "metadata": {},
   "outputs": [
    {
     "ename": "TypeError",
     "evalue": "can only concatenate list (not \"int\") to list",
     "output_type": "error",
     "traceback": [
      "\u001b[0;31m---------------------------------------------------------------------------\u001b[0m",
      "\u001b[0;31mTypeError\u001b[0m                                 Traceback (most recent call last)",
      "Cell \u001b[0;32mIn[16], line 2\u001b[0m\n\u001b[1;32m      1\u001b[0m \u001b[38;5;66;03m# if we want add 1 to each elements in list it doesnot allow. \u001b[39;00m\n\u001b[0;32m----> 2\u001b[0m new_list \u001b[38;5;241m=\u001b[39m lst \u001b[38;5;241m+\u001b[39m \u001b[38;5;241m1\u001b[39m\n",
      "\u001b[0;31mTypeError\u001b[0m: can only concatenate list (not \"int\") to list"
     ]
    }
   ],
   "source": [
    "# if we want add 1 to each elements in list it doesnot allow. \n",
    "new_list = lst + 1"
   ]
  },
  {
   "cell_type": "code",
   "execution_count": 18,
   "id": "c5ddf884",
   "metadata": {},
   "outputs": [
    {
     "name": "stdout",
     "output_type": "stream",
     "text": [
      "Added 1 array: [ 2  3  4  5  6  7  8  9 10 11]\n"
     ]
    }
   ],
   "source": [
    "# if we want add 1 to each elements in arrayt it allow. \n",
    "new_array = lst_array + 1\n",
    "print(\"Added 1 array:\", new_array)"
   ]
  },
  {
   "cell_type": "code",
   "execution_count": null,
   "id": "8e439a2a",
   "metadata": {},
   "outputs": [],
   "source": []
  },
  {
   "cell_type": "markdown",
   "id": "f0da4d8d",
   "metadata": {},
   "source": [
    "\n",
    "**Numpy Basics**\n",
    "array: Fundamental element in numpy is homogenous array. Numpy Arrays can be 1D, 2D, 3D... nD\n",
    "- Different ways to create np array\n",
    "1. np.array ( )\n",
    "2. np.arange ()\n",
    "3. np.linspace()"
   ]
  },
  {
   "cell_type": "markdown",
   "id": "2c749334",
   "metadata": {},
   "source": [
    "**USING np.array()**"
   ]
  },
  {
   "cell_type": "code",
   "execution_count": 19,
   "id": "5c48a1f9",
   "metadata": {},
   "outputs": [
    {
     "data": {
      "text/plain": [
       "array([1, 2, 3, 4, 5, 6, 7, 8, 9])"
      ]
     },
     "execution_count": 19,
     "metadata": {},
     "output_type": "execute_result"
    }
   ],
   "source": [
    "list_ = [1,2,3,4,5,6,7,8,9]\n",
    "list_array = np.array(list_)\n",
    "list_array"
   ]
  },
  {
   "cell_type": "code",
   "execution_count": 22,
   "id": "fc9a3ed8",
   "metadata": {},
   "outputs": [
    {
     "name": "stdout",
     "output_type": "stream",
     "text": [
      "Dimension of above array is 1\n"
     ]
    }
   ],
   "source": [
    "# Finding dimension of array\n",
    "print(\"Dimension of above array is\",list_array.ndim)"
   ]
  },
  {
   "cell_type": "code",
   "execution_count": 23,
   "id": "b4c056c5",
   "metadata": {},
   "outputs": [
    {
     "name": "stdout",
     "output_type": "stream",
     "text": [
      "Shape of above array is (9,)\n"
     ]
    }
   ],
   "source": [
    "# finding shape of array\n",
    "print(\"Shape of above array is\",list_array.shape)"
   ]
  },
  {
   "cell_type": "code",
   "execution_count": 24,
   "id": "c8e5daa6",
   "metadata": {},
   "outputs": [
    {
     "name": "stdout",
     "output_type": "stream",
     "text": [
      "Shape of above array is 9\n"
     ]
    }
   ],
   "source": [
    "# finding size of array\n",
    "print(\"Shape of above array is\",list_array.size)"
   ]
  },
  {
   "cell_type": "code",
   "execution_count": null,
   "id": "acefcf0e",
   "metadata": {},
   "outputs": [],
   "source": []
  },
  {
   "cell_type": "markdown",
   "id": "58f2bf3e",
   "metadata": {},
   "source": [
    "**USING np.arange()**"
   ]
  },
  {
   "cell_type": "code",
   "execution_count": 33,
   "id": "07fe73b5",
   "metadata": {},
   "outputs": [
    {
     "data": {
      "text/plain": [
       "array([ 1,  2,  3,  4,  5,  6,  7,  8,  9, 10])"
      ]
     },
     "execution_count": 33,
     "metadata": {},
     "output_type": "execute_result"
    }
   ],
   "source": [
    "new_array = np.arange(1,11)\n",
    "new_array"
   ]
  },
  {
   "cell_type": "code",
   "execution_count": 34,
   "id": "25d3f2dc",
   "metadata": {},
   "outputs": [
    {
     "data": {
      "text/plain": [
       "1"
      ]
     },
     "execution_count": 34,
     "metadata": {},
     "output_type": "execute_result"
    }
   ],
   "source": [
    "# Dimesion\n",
    "new_array.ndim"
   ]
  },
  {
   "cell_type": "code",
   "execution_count": 35,
   "id": "860767d6",
   "metadata": {},
   "outputs": [
    {
     "data": {
      "text/plain": [
       "(10,)"
      ]
     },
     "execution_count": 35,
     "metadata": {},
     "output_type": "execute_result"
    }
   ],
   "source": [
    "# shape\n",
    "new_array.shape"
   ]
  },
  {
   "cell_type": "code",
   "execution_count": 36,
   "id": "5ec10ae3",
   "metadata": {},
   "outputs": [
    {
     "data": {
      "text/plain": [
       "10"
      ]
     },
     "execution_count": 36,
     "metadata": {},
     "output_type": "execute_result"
    }
   ],
   "source": [
    "# size\n",
    "new_array.size"
   ]
  },
  {
   "cell_type": "code",
   "execution_count": null,
   "id": "07613386",
   "metadata": {},
   "outputs": [],
   "source": []
  },
  {
   "cell_type": "markdown",
   "id": "80718eb3",
   "metadata": {},
   "source": [
    "**USING np.linspace()** (0,100,3) = (100/3-1)"
   ]
  },
  {
   "cell_type": "code",
   "execution_count": 37,
   "id": "948afc48",
   "metadata": {},
   "outputs": [
    {
     "data": {
      "text/plain": [
       "array([  0.,  50., 100.])"
      ]
     },
     "execution_count": 37,
     "metadata": {},
     "output_type": "execute_result"
    }
   ],
   "source": [
    "new_array1 = np.linspace(0,100,3)\n",
    "new_array1"
   ]
  },
  {
   "cell_type": "code",
   "execution_count": null,
   "id": "13e4b871",
   "metadata": {},
   "outputs": [],
   "source": []
  },
  {
   "cell_type": "code",
   "execution_count": 39,
   "id": "08a60e21",
   "metadata": {},
   "outputs": [
    {
     "data": {
      "text/plain": [
       "array([[1, 2, 3],\n",
       "       [4, 5, 6],\n",
       "       [7, 8, 9]])"
      ]
     },
     "execution_count": 39,
     "metadata": {},
     "output_type": "execute_result"
    }
   ],
   "source": [
    "# Creating two dimensional array \n",
    "twoD_array = np.array([[1,2,3],[4,5,6],[7,8,9]])\n",
    "twoD_array"
   ]
  },
  {
   "cell_type": "code",
   "execution_count": 40,
   "id": "b977a9a2",
   "metadata": {},
   "outputs": [
    {
     "data": {
      "text/plain": [
       "2"
      ]
     },
     "execution_count": 40,
     "metadata": {},
     "output_type": "execute_result"
    }
   ],
   "source": [
    "# Finding dimension of array\n",
    "twoD_array.ndim"
   ]
  },
  {
   "cell_type": "code",
   "execution_count": 41,
   "id": "7d026038",
   "metadata": {},
   "outputs": [
    {
     "data": {
      "text/plain": [
       "(3, 3)"
      ]
     },
     "execution_count": 41,
     "metadata": {},
     "output_type": "execute_result"
    }
   ],
   "source": [
    "# finding shape of array\n",
    "twoD_array.shape"
   ]
  },
  {
   "cell_type": "code",
   "execution_count": 43,
   "id": "cb6d058d",
   "metadata": {},
   "outputs": [
    {
     "data": {
      "text/plain": [
       "9"
      ]
     },
     "execution_count": 43,
     "metadata": {},
     "output_type": "execute_result"
    }
   ],
   "source": [
    "# finding size of array\n",
    "twoD_array.size"
   ]
  },
  {
   "cell_type": "code",
   "execution_count": null,
   "id": "a917c1e3",
   "metadata": {},
   "outputs": [],
   "source": []
  },
  {
   "cell_type": "code",
   "execution_count": 63,
   "id": "5efad784",
   "metadata": {},
   "outputs": [
    {
     "data": {
      "text/plain": [
       "array([[0, 0],\n",
       "       [0, 0],\n",
       "       [0, 0],\n",
       "       [0, 0]])"
      ]
     },
     "execution_count": 63,
     "metadata": {},
     "output_type": "execute_result"
    }
   ],
   "source": [
    "# Creating zeros array\n",
    "zero_array = np.zeros((4,2), dtype=int)\n",
    "zero_array"
   ]
  },
  {
   "cell_type": "code",
   "execution_count": 64,
   "id": "a25a1d5a",
   "metadata": {},
   "outputs": [
    {
     "data": {
      "text/plain": [
       "array([[1, 1, 1, 1],\n",
       "       [1, 1, 1, 1],\n",
       "       [1, 1, 1, 1]])"
      ]
     },
     "execution_count": 64,
     "metadata": {},
     "output_type": "execute_result"
    }
   ],
   "source": [
    "# Creating one array\n",
    "ones_array = np.ones((3,4), dtype=int)\n",
    "ones_array"
   ]
  },
  {
   "cell_type": "code",
   "execution_count": 65,
   "id": "e45e364e",
   "metadata": {},
   "outputs": [
    {
     "data": {
      "text/plain": [
       "array([[0, 0],\n",
       "       [0, 0],\n",
       "       [0, 0]])"
      ]
     },
     "execution_count": 65,
     "metadata": {},
     "output_type": "execute_result"
    }
   ],
   "source": [
    "# Creating empty array\n",
    "empty_array = np.empty((3,2), dtype= int)\n",
    "empty_array"
   ]
  },
  {
   "cell_type": "code",
   "execution_count": 69,
   "id": "99816c6d",
   "metadata": {},
   "outputs": [
    {
     "data": {
      "text/plain": [
       "array([0.78202864, 0.60026089, 0.74019111])"
      ]
     },
     "execution_count": 69,
     "metadata": {},
     "output_type": "execute_result"
    }
   ],
   "source": [
    "# Creating random array\n",
    "random_array = np.random.rand(3)\n",
    "random_array"
   ]
  },
  {
   "cell_type": "code",
   "execution_count": null,
   "id": "0ded80d2",
   "metadata": {},
   "outputs": [],
   "source": []
  }
 ],
 "metadata": {
  "kernelspec": {
   "display_name": "Python 3 (ipykernel)",
   "language": "python",
   "name": "python3"
  },
  "language_info": {
   "codemirror_mode": {
    "name": "ipython",
    "version": 3
   },
   "file_extension": ".py",
   "mimetype": "text/x-python",
   "name": "python",
   "nbconvert_exporter": "python",
   "pygments_lexer": "ipython3",
   "version": "3.11.7"
  }
 },
 "nbformat": 4,
 "nbformat_minor": 5
}
