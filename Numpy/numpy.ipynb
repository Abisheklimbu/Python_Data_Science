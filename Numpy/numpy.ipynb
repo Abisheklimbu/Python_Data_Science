{
 "cells": [
  {
   "cell_type": "markdown",
   "id": "af66a90c",
   "metadata": {},
   "source": [
    "**Numpy**\n",
    "- Numpy is a numerical computing library for python.\n",
    "- Numpy support multi dimensional arrays and matrices\n",
    "- It has a lot of in-built mathematical functions\n",
    "\n",
    "**Why Numpy ?**\n",
    "- performs fast operations (because of Vectorization)\n",
    "- numpy arrays can be treated as vectors and matrices from linear algebra"
   ]
  },
  {
   "cell_type": "code",
   "execution_count": 1,
   "id": "d5be7d4a",
   "metadata": {},
   "outputs": [
    {
     "name": "stdout",
     "output_type": "stream",
     "text": [
      "Requirement already satisfied: numpy in /opt/anaconda3/lib/python3.11/site-packages (1.26.4)\r\n"
     ]
    }
   ],
   "source": [
    "# Installing numpy library \n",
    "!pip install numpy"
   ]
  },
  {
   "cell_type": "code",
   "execution_count": 2,
   "id": "4cfc6163",
   "metadata": {},
   "outputs": [],
   "source": [
    "# Importing numpy as np \n",
    "import numpy as np "
   ]
  },
  {
   "cell_type": "code",
   "execution_count": 3,
   "id": "1e9162a2",
   "metadata": {},
   "outputs": [
    {
     "name": "stdout",
     "output_type": "stream",
     "text": [
      "289 ns ± 2.46 ns per loop (mean ± std. dev. of 7 runs, 1,000,000 loops each)\n"
     ]
    },
    {
     "ename": "NameError",
     "evalue": "name 'square_lst' is not defined",
     "output_type": "error",
     "traceback": [
      "\u001b[0;31m---------------------------------------------------------------------------\u001b[0m",
      "\u001b[0;31mNameError\u001b[0m                                 Traceback (most recent call last)",
      "Cell \u001b[0;32mIn[3], line 4\u001b[0m\n\u001b[1;32m      2\u001b[0m lst \u001b[38;5;241m=\u001b[39m [\u001b[38;5;241m1\u001b[39m,\u001b[38;5;241m2\u001b[39m,\u001b[38;5;241m3\u001b[39m,\u001b[38;5;241m4\u001b[39m,\u001b[38;5;241m5\u001b[39m,\u001b[38;5;241m6\u001b[39m,\u001b[38;5;241m7\u001b[39m,\u001b[38;5;241m8\u001b[39m,\u001b[38;5;241m9\u001b[39m,\u001b[38;5;241m10\u001b[39m]\n\u001b[1;32m      3\u001b[0m get_ipython()\u001b[38;5;241m.\u001b[39mrun_line_magic(\u001b[38;5;124m'\u001b[39m\u001b[38;5;124mtimeit\u001b[39m\u001b[38;5;124m'\u001b[39m, \u001b[38;5;124m'\u001b[39m\u001b[38;5;124msquare_lst = [i**2 for i in lst]\u001b[39m\u001b[38;5;124m'\u001b[39m)\n\u001b[0;32m----> 4\u001b[0m \u001b[38;5;28mprint\u001b[39m(\u001b[38;5;124m\"\u001b[39m\u001b[38;5;124mNew Square List:\u001b[39m\u001b[38;5;124m\"\u001b[39m,square_lst)\n",
      "\u001b[0;31mNameError\u001b[0m: name 'square_lst' is not defined"
     ]
    }
   ],
   "source": [
    "# It take 287 nano seconds for calculation \n",
    "lst = [1,2,3,4,5,6,7,8,9,10]\n",
    "%timeit square_lst = [i**2 for i in lst]\n",
    "print(\"New Square List:\",square_lst)"
   ]
  },
  {
   "cell_type": "code",
   "execution_count": null,
   "id": "76e72d67",
   "metadata": {},
   "outputs": [],
   "source": [
    "# Finding calculation time of calulating square of list using array\n",
    "lst_array = np.array(lst)\n",
    "lst_array\n",
    "%timeit square_array = lst_array ** 2\n",
    "print(\"New Square Array:\", square_array)\n",
    "# Using array it takes 229 nano sceonds for calculation it means array is faster than list "
   ]
  },
  {
   "cell_type": "code",
   "execution_count": null,
   "id": "adfb0ec3",
   "metadata": {},
   "outputs": [],
   "source": [
    "# if we want add 1 to each elements in list it doesnot allow. \n",
    "new_list = lst + 1"
   ]
  },
  {
   "cell_type": "code",
   "execution_count": null,
   "id": "c5ddf884",
   "metadata": {},
   "outputs": [],
   "source": [
    "# if we want add 1 to each elements in arrayt it allow. \n",
    "new_array = lst_array + 1\n",
    "print(\"Added 1 array:\", new_array)"
   ]
  },
  {
   "cell_type": "code",
   "execution_count": null,
   "id": "8e439a2a",
   "metadata": {},
   "outputs": [],
   "source": []
  },
  {
   "cell_type": "markdown",
   "id": "f0da4d8d",
   "metadata": {},
   "source": [
    "\n",
    "**Numpy Basics**\n",
    "array: Fundamental element in numpy is homogenous array. Numpy Arrays can be 1D, 2D, 3D... nD\n",
    "- Different ways to create np array\n",
    "1. np.array ( )\n",
    "2. np.arange ()\n",
    "3. np.linspace()"
   ]
  },
  {
   "cell_type": "markdown",
   "id": "2c749334",
   "metadata": {},
   "source": [
    "**USING np.array()**"
   ]
  },
  {
   "cell_type": "code",
   "execution_count": null,
   "id": "5c48a1f9",
   "metadata": {},
   "outputs": [],
   "source": [
    "list_ = [1,2,3,4,5,6,7,8,9]\n",
    "list_array = np.array(list_)\n",
    "list_array"
   ]
  },
  {
   "cell_type": "code",
   "execution_count": null,
   "id": "fc9a3ed8",
   "metadata": {},
   "outputs": [],
   "source": [
    "# Finding dimension of array\n",
    "print(\"Dimension of above array is\",list_array.ndim)"
   ]
  },
  {
   "cell_type": "code",
   "execution_count": null,
   "id": "b4c056c5",
   "metadata": {},
   "outputs": [],
   "source": [
    "# finding shape of array\n",
    "print(\"Shape of above array is\",list_array.shape)"
   ]
  },
  {
   "cell_type": "code",
   "execution_count": null,
   "id": "c8e5daa6",
   "metadata": {},
   "outputs": [],
   "source": [
    "# finding size of array\n",
    "print(\"Shape of above array is\",list_array.size)"
   ]
  },
  {
   "cell_type": "code",
   "execution_count": null,
   "id": "acefcf0e",
   "metadata": {},
   "outputs": [],
   "source": []
  },
  {
   "cell_type": "markdown",
   "id": "58f2bf3e",
   "metadata": {},
   "source": [
    "**USING np.arange()**"
   ]
  },
  {
   "cell_type": "code",
   "execution_count": null,
   "id": "07fe73b5",
   "metadata": {},
   "outputs": [],
   "source": [
    "new_array = np.arange(1,11)\n",
    "new_array"
   ]
  },
  {
   "cell_type": "code",
   "execution_count": null,
   "id": "25d3f2dc",
   "metadata": {},
   "outputs": [],
   "source": [
    "# Dimesion\n",
    "new_array.ndim"
   ]
  },
  {
   "cell_type": "code",
   "execution_count": null,
   "id": "860767d6",
   "metadata": {},
   "outputs": [],
   "source": [
    "# shape\n",
    "new_array.shape"
   ]
  },
  {
   "cell_type": "code",
   "execution_count": null,
   "id": "5ec10ae3",
   "metadata": {},
   "outputs": [],
   "source": [
    "# size\n",
    "new_array.size"
   ]
  },
  {
   "cell_type": "code",
   "execution_count": null,
   "id": "07613386",
   "metadata": {},
   "outputs": [],
   "source": []
  },
  {
   "cell_type": "markdown",
   "id": "80718eb3",
   "metadata": {},
   "source": [
    "**USING np.linspace()** (0,100,3) = (100/3-1)"
   ]
  },
  {
   "cell_type": "code",
   "execution_count": null,
   "id": "948afc48",
   "metadata": {},
   "outputs": [],
   "source": [
    "new_array1 = np.linspace(0,100,3)\n",
    "new_array1"
   ]
  },
  {
   "cell_type": "code",
   "execution_count": null,
   "id": "13e4b871",
   "metadata": {},
   "outputs": [],
   "source": []
  },
  {
   "cell_type": "code",
   "execution_count": null,
   "id": "08a60e21",
   "metadata": {},
   "outputs": [],
   "source": [
    "# Creating two dimensional array \n",
    "twoD_array = np.array([[1,2,3],[4,5,6],[7,8,9]])\n",
    "twoD_array"
   ]
  },
  {
   "cell_type": "code",
   "execution_count": null,
   "id": "b977a9a2",
   "metadata": {},
   "outputs": [],
   "source": [
    "# Finding dimension of array\n",
    "twoD_array.ndim"
   ]
  },
  {
   "cell_type": "code",
   "execution_count": null,
   "id": "7d026038",
   "metadata": {},
   "outputs": [],
   "source": [
    "# finding shape of array\n",
    "twoD_array.shape"
   ]
  },
  {
   "cell_type": "code",
   "execution_count": null,
   "id": "cb6d058d",
   "metadata": {},
   "outputs": [],
   "source": [
    "# finding size of array\n",
    "twoD_array.size"
   ]
  },
  {
   "cell_type": "code",
   "execution_count": null,
   "id": "a917c1e3",
   "metadata": {},
   "outputs": [],
   "source": []
  },
  {
   "cell_type": "code",
   "execution_count": 4,
   "id": "5efad784",
   "metadata": {},
   "outputs": [
    {
     "data": {
      "text/plain": [
       "array([[0, 0],\n",
       "       [0, 0],\n",
       "       [0, 0],\n",
       "       [0, 0]])"
      ]
     },
     "execution_count": 4,
     "metadata": {},
     "output_type": "execute_result"
    }
   ],
   "source": [
    "# Creating zeros array\n",
    "zero_array = np.zeros((4,2), dtype=int)\n",
    "zero_array"
   ]
  },
  {
   "cell_type": "code",
   "execution_count": 5,
   "id": "a25a1d5a",
   "metadata": {},
   "outputs": [
    {
     "data": {
      "text/plain": [
       "array([[1, 1, 1, 1],\n",
       "       [1, 1, 1, 1],\n",
       "       [1, 1, 1, 1]])"
      ]
     },
     "execution_count": 5,
     "metadata": {},
     "output_type": "execute_result"
    }
   ],
   "source": [
    "# Creating one array\n",
    "ones_array = np.ones((3,4), dtype=int)\n",
    "ones_array"
   ]
  },
  {
   "cell_type": "code",
   "execution_count": 6,
   "id": "e45e364e",
   "metadata": {},
   "outputs": [
    {
     "data": {
      "text/plain": [
       "array([[0, 0],\n",
       "       [0, 0],\n",
       "       [0, 0]])"
      ]
     },
     "execution_count": 6,
     "metadata": {},
     "output_type": "execute_result"
    }
   ],
   "source": [
    "# Creating empty array\n",
    "empty_array = np.empty((3,2), dtype= int)\n",
    "empty_array"
   ]
  },
  {
   "cell_type": "code",
   "execution_count": 7,
   "id": "99816c6d",
   "metadata": {},
   "outputs": [
    {
     "data": {
      "text/plain": [
       "array([0.9537641 , 0.24439927, 0.45959735])"
      ]
     },
     "execution_count": 7,
     "metadata": {},
     "output_type": "execute_result"
    }
   ],
   "source": [
    "# Creating random array\n",
    "random_array = np.random.rand(3)\n",
    "random_array"
   ]
  },
  {
   "cell_type": "code",
   "execution_count": null,
   "id": "0ded80d2",
   "metadata": {},
   "outputs": [],
   "source": []
  },
  {
   "cell_type": "markdown",
   "id": "70f6802f",
   "metadata": {},
   "source": [
    "**INDEXING**"
   ]
  },
  {
   "cell_type": "code",
   "execution_count": 9,
   "id": "0bc91cfa",
   "metadata": {},
   "outputs": [
    {
     "data": {
      "text/plain": [
       "array([[45, 89, 89, 67],\n",
       "       [74, 22, 78, 43],\n",
       "       [77, 52, 42,  1],\n",
       "       [55, 13, 32, 79],\n",
       "       [46, 60, 85, 60]])"
      ]
     },
     "execution_count": 9,
     "metadata": {},
     "output_type": "execute_result"
    }
   ],
   "source": [
    "array = np.random.randint(1,100,(5,4))\n",
    "array"
   ]
  },
  {
   "cell_type": "code",
   "execution_count": 11,
   "id": "ba2356e9",
   "metadata": {},
   "outputs": [
    {
     "data": {
      "text/plain": [
       "array([45, 89, 89, 67])"
      ]
     },
     "execution_count": 11,
     "metadata": {},
     "output_type": "execute_result"
    }
   ],
   "source": [
    "# First row \n",
    "array[0]"
   ]
  },
  {
   "cell_type": "code",
   "execution_count": 13,
   "id": "3f9620f0",
   "metadata": {},
   "outputs": [
    {
     "data": {
      "text/plain": [
       "array([55, 13, 32, 79])"
      ]
     },
     "execution_count": 13,
     "metadata": {},
     "output_type": "execute_result"
    }
   ],
   "source": [
    "# second last row \n",
    "array[-2]"
   ]
  },
  {
   "cell_type": "code",
   "execution_count": 18,
   "id": "4e8a47dc",
   "metadata": {},
   "outputs": [
    {
     "name": "stdout",
     "output_type": "stream",
     "text": [
      "First Element: 45\n",
      "Last Element: 60\n"
     ]
    }
   ],
   "source": [
    "# first element\n",
    "print(\"First Element:\",array[0,0])\n",
    "\n",
    "# last element\n",
    "print(\"Last Element:\",array[-1,-1])"
   ]
  },
  {
   "cell_type": "code",
   "execution_count": null,
   "id": "1725c1d6",
   "metadata": {},
   "outputs": [],
   "source": []
  },
  {
   "cell_type": "markdown",
   "id": "fe37fcfc",
   "metadata": {},
   "source": [
    "**SLICING**\n",
    "1. arrl start_ row_idx : end row idx + 1, start_col _idx : end _col _idx+1]"
   ]
  },
  {
   "cell_type": "code",
   "execution_count": 19,
   "id": "19d89f8f",
   "metadata": {},
   "outputs": [
    {
     "data": {
      "text/plain": [
       "array([[45, 89, 89, 67],\n",
       "       [74, 22, 78, 43],\n",
       "       [77, 52, 42,  1],\n",
       "       [55, 13, 32, 79],\n",
       "       [46, 60, 85, 60]])"
      ]
     },
     "execution_count": 19,
     "metadata": {},
     "output_type": "execute_result"
    }
   ],
   "source": [
    "new_array = array\n",
    "new_array"
   ]
  },
  {
   "cell_type": "code",
   "execution_count": 24,
   "id": "d067716a",
   "metadata": {},
   "outputs": [
    {
     "data": {
      "text/plain": [
       "array([[42,  1],\n",
       "       [32, 79],\n",
       "       [85, 60]])"
      ]
     },
     "execution_count": 24,
     "metadata": {},
     "output_type": "execute_result"
    }
   ],
   "source": [
    "# 3rd row to last row and 4th column to 5th column \n",
    "new_array[2:5, 2:5]"
   ]
  },
  {
   "cell_type": "code",
   "execution_count": 33,
   "id": "24598e7e",
   "metadata": {},
   "outputs": [
    {
     "data": {
      "text/plain": [
       "array([[77, 52, 42,  1],\n",
       "       [55, 13, 32, 79],\n",
       "       [46, 60, 85, 60]])"
      ]
     },
     "execution_count": 33,
     "metadata": {},
     "output_type": "execute_result"
    }
   ],
   "source": [
    "# 3rd row to last row and 1st column to last column \n",
    "new_array[2: , 0:]"
   ]
  },
  {
   "cell_type": "code",
   "execution_count": 30,
   "id": "ec6bb93d",
   "metadata": {},
   "outputs": [
    {
     "data": {
      "text/plain": [
       "array([89, 78, 42, 32, 85])"
      ]
     },
     "execution_count": 30,
     "metadata": {},
     "output_type": "execute_result"
    }
   ],
   "source": [
    "# third column only \n",
    "new_array[ :,2]"
   ]
  },
  {
   "cell_type": "code",
   "execution_count": 32,
   "id": "c206a6b6",
   "metadata": {},
   "outputs": [
    {
     "data": {
      "text/plain": [
       "array([[45, 89, 89, 67],\n",
       "       [74, 22, 78, 43],\n",
       "       [77, 52, 42,  1]])"
      ]
     },
     "execution_count": 32,
     "metadata": {},
     "output_type": "execute_result"
    }
   ],
   "source": [
    "# upto third row\n",
    "new_array[:3]"
   ]
  },
  {
   "cell_type": "code",
   "execution_count": 37,
   "id": "2d3cfb96",
   "metadata": {},
   "outputs": [
    {
     "data": {
      "text/plain": [
       "array([[46, 89, 89, 67],\n",
       "       [74, 22, 78, 43],\n",
       "       [77, 52, 42,  1],\n",
       "       [55, 13, 32, 79],\n",
       "       [46, 60, 85, 60]])"
      ]
     },
     "execution_count": 37,
     "metadata": {},
     "output_type": "execute_result"
    }
   ],
   "source": [
    "# changing element value \n",
    "new_array[0,0] = 46\n",
    "new_array"
   ]
  },
  {
   "cell_type": "code",
   "execution_count": 41,
   "id": "d09bc68d",
   "metadata": {},
   "outputs": [
    {
     "data": {
      "text/plain": [
       "20"
      ]
     },
     "execution_count": 41,
     "metadata": {},
     "output_type": "execute_result"
    }
   ],
   "source": [
    "# Total elements\n",
    "new_array.size"
   ]
  },
  {
   "cell_type": "code",
   "execution_count": 38,
   "id": "6a79eb75",
   "metadata": {},
   "outputs": [
    {
     "name": "stdout",
     "output_type": "stream",
     "text": [
      "[[False  True  True  True]\n",
      " [ True False  True False]\n",
      " [ True  True False False]\n",
      " [ True False False  True]\n",
      " [False  True  True  True]]\n"
     ]
    }
   ],
   "source": [
    "# Masking \n",
    "mask = new_array > 50\n",
    "print(mask)"
   ]
  },
  {
   "cell_type": "code",
   "execution_count": 40,
   "id": "7d1d3b8b",
   "metadata": {},
   "outputs": [
    {
     "data": {
      "text/plain": [
       "12"
      ]
     },
     "execution_count": 40,
     "metadata": {},
     "output_type": "execute_result"
    }
   ],
   "source": [
    "# Elements that are greater than 50\n",
    "np.sum(mask)"
   ]
  },
  {
   "cell_type": "code",
   "execution_count": 43,
   "id": "d480b95a",
   "metadata": {},
   "outputs": [
    {
     "data": {
      "text/plain": [
       "array([89, 89, 67, 74, 78, 77, 52, 55, 79, 60, 85, 60])"
      ]
     },
     "execution_count": 43,
     "metadata": {},
     "output_type": "execute_result"
    }
   ],
   "source": [
    "# listing elemts that are greater than 50\n",
    "new_array[mask]"
   ]
  },
  {
   "cell_type": "code",
   "execution_count": null,
   "id": "941bb96a",
   "metadata": {},
   "outputs": [],
   "source": []
  },
  {
   "cell_type": "markdown",
   "id": "88da90ac",
   "metadata": {},
   "source": [
    "**Operations in numpy array**"
   ]
  },
  {
   "cell_type": "code",
   "execution_count": 57,
   "id": "5f426dc2",
   "metadata": {},
   "outputs": [],
   "source": [
    "a = np.arange(1,10)\n",
    "b = np.arange(10,19)\n"
   ]
  },
  {
   "cell_type": "code",
   "execution_count": 58,
   "id": "58bbcf63",
   "metadata": {},
   "outputs": [
    {
     "data": {
      "text/plain": [
       "array([1, 2, 3, 4, 5, 6, 7, 8, 9])"
      ]
     },
     "execution_count": 58,
     "metadata": {},
     "output_type": "execute_result"
    }
   ],
   "source": [
    "a"
   ]
  },
  {
   "cell_type": "code",
   "execution_count": 59,
   "id": "25615436",
   "metadata": {},
   "outputs": [
    {
     "data": {
      "text/plain": [
       "array([10, 11, 12, 13, 14, 15, 16, 17, 18])"
      ]
     },
     "execution_count": 59,
     "metadata": {},
     "output_type": "execute_result"
    }
   ],
   "source": [
    "b"
   ]
  },
  {
   "cell_type": "code",
   "execution_count": 60,
   "id": "5c632b7f",
   "metadata": {},
   "outputs": [
    {
     "data": {
      "text/plain": [
       "array([11, 13, 15, 17, 19, 21, 23, 25, 27])"
      ]
     },
     "execution_count": 60,
     "metadata": {},
     "output_type": "execute_result"
    }
   ],
   "source": [
    "# sum\n",
    "sum_array = a + b\n",
    "sum_array"
   ]
  },
  {
   "cell_type": "code",
   "execution_count": 61,
   "id": "f2550aa9",
   "metadata": {},
   "outputs": [
    {
     "data": {
      "text/plain": [
       "array([9, 9, 9, 9, 9, 9, 9, 9, 9])"
      ]
     },
     "execution_count": 61,
     "metadata": {},
     "output_type": "execute_result"
    }
   ],
   "source": [
    "# difference \n",
    "sub_array = b - a\n",
    "sub_array"
   ]
  },
  {
   "cell_type": "code",
   "execution_count": 62,
   "id": "5c0cdd07",
   "metadata": {},
   "outputs": [
    {
     "data": {
      "text/plain": [
       "array([ 10,  22,  36,  52,  70,  90, 112, 136, 162])"
      ]
     },
     "execution_count": 62,
     "metadata": {},
     "output_type": "execute_result"
    }
   ],
   "source": [
    "# multiply\n",
    "mult_array = a * b\n",
    "mult_array"
   ]
  },
  {
   "cell_type": "code",
   "execution_count": 63,
   "id": "3d0ab07f",
   "metadata": {},
   "outputs": [
    {
     "name": "stdout",
     "output_type": "stream",
     "text": [
      "[ 1  4  9 16 25 36 49 64 81]\n"
     ]
    }
   ],
   "source": [
    "# square of a each elements \n",
    "sq_array = a**2\n",
    "print(sq_array)"
   ]
  },
  {
   "cell_type": "code",
   "execution_count": 66,
   "id": "2cde291b",
   "metadata": {},
   "outputs": [],
   "source": [
    "# Now operation on (3*3) matrices\n",
    "new_a = a.reshape(3,3)\n",
    "new_b = b.reshape(3,3)"
   ]
  },
  {
   "cell_type": "code",
   "execution_count": 67,
   "id": "e7f39e66",
   "metadata": {},
   "outputs": [
    {
     "data": {
      "text/plain": [
       "array([[1, 2, 3],\n",
       "       [4, 5, 6],\n",
       "       [7, 8, 9]])"
      ]
     },
     "execution_count": 67,
     "metadata": {},
     "output_type": "execute_result"
    }
   ],
   "source": [
    "new_a"
   ]
  },
  {
   "cell_type": "code",
   "execution_count": 68,
   "id": "97254c62",
   "metadata": {},
   "outputs": [
    {
     "data": {
      "text/plain": [
       "array([[10, 11, 12],\n",
       "       [13, 14, 15],\n",
       "       [16, 17, 18]])"
      ]
     },
     "execution_count": 68,
     "metadata": {},
     "output_type": "execute_result"
    }
   ],
   "source": [
    "new_b"
   ]
  },
  {
   "cell_type": "code",
   "execution_count": 70,
   "id": "06e1d933",
   "metadata": {},
   "outputs": [
    {
     "data": {
      "text/plain": [
       "array([[11, 13, 15],\n",
       "       [17, 19, 21],\n",
       "       [23, 25, 27]])"
      ]
     },
     "execution_count": 70,
     "metadata": {},
     "output_type": "execute_result"
    }
   ],
   "source": [
    "# operation\n",
    "sum_ = new_a + new_b\n",
    "sum_\n"
   ]
  },
  {
   "cell_type": "code",
   "execution_count": 71,
   "id": "524e9db8",
   "metadata": {},
   "outputs": [
    {
     "data": {
      "text/plain": [
       "array([[9, 9, 9],\n",
       "       [9, 9, 9],\n",
       "       [9, 9, 9]])"
      ]
     },
     "execution_count": 71,
     "metadata": {},
     "output_type": "execute_result"
    }
   ],
   "source": [
    "subtract_ = new_b - new_a\n",
    "subtract_"
   ]
  },
  {
   "cell_type": "code",
   "execution_count": 72,
   "id": "0a44a3bc",
   "metadata": {},
   "outputs": [
    {
     "data": {
      "text/plain": [
       "array([[ 10,  22,  36],\n",
       "       [ 52,  70,  90],\n",
       "       [112, 136, 162]])"
      ]
     },
     "execution_count": 72,
     "metadata": {},
     "output_type": "execute_result"
    }
   ],
   "source": [
    "multiply_ = new_a * new_b\n",
    "multiply_"
   ]
  },
  {
   "cell_type": "code",
   "execution_count": null,
   "id": "9e0d9dc1",
   "metadata": {},
   "outputs": [],
   "source": []
  },
  {
   "cell_type": "code",
   "execution_count": 73,
   "id": "9697909a",
   "metadata": {},
   "outputs": [
    {
     "data": {
      "text/plain": [
       "array([[1, 2, 3],\n",
       "       [4, 5, 6],\n",
       "       [7, 8, 9]])"
      ]
     },
     "execution_count": 73,
     "metadata": {},
     "output_type": "execute_result"
    }
   ],
   "source": [
    "new_a"
   ]
  },
  {
   "cell_type": "code",
   "execution_count": 74,
   "id": "39193c13",
   "metadata": {},
   "outputs": [
    {
     "data": {
      "text/plain": [
       "array([[10, 11, 12],\n",
       "       [13, 14, 15],\n",
       "       [16, 17, 18]])"
      ]
     },
     "execution_count": 74,
     "metadata": {},
     "output_type": "execute_result"
    }
   ],
   "source": [
    "new_b"
   ]
  },
  {
   "cell_type": "code",
   "execution_count": 78,
   "id": "507878ea",
   "metadata": {},
   "outputs": [
    {
     "name": "stdout",
     "output_type": "stream",
     "text": [
      "[[False False False]\n",
      " [False False  True]\n",
      " [ True  True  True]]\n"
     ]
    }
   ],
   "source": [
    "# masking in new_a matrix \n",
    "mask = new_a > 5\n",
    "print(mask)"
   ]
  },
  {
   "cell_type": "code",
   "execution_count": 79,
   "id": "7c958243",
   "metadata": {},
   "outputs": [
    {
     "data": {
      "text/plain": [
       "4"
      ]
     },
     "execution_count": 79,
     "metadata": {},
     "output_type": "execute_result"
    }
   ],
   "source": [
    "np.sum(mask)"
   ]
  },
  {
   "cell_type": "code",
   "execution_count": 80,
   "id": "e7cad7f8",
   "metadata": {},
   "outputs": [
    {
     "data": {
      "text/plain": [
       "array([[0.        , 0.69314718, 1.09861229],\n",
       "       [1.38629436, 1.60943791, 1.79175947],\n",
       "       [1.94591015, 2.07944154, 2.19722458]])"
      ]
     },
     "execution_count": 80,
     "metadata": {},
     "output_type": "execute_result"
    }
   ],
   "source": [
    "np.log(new_a)"
   ]
  },
  {
   "cell_type": "code",
   "execution_count": 81,
   "id": "e1865851",
   "metadata": {},
   "outputs": [
    {
     "data": {
      "text/plain": [
       "array([[ 0.84147098,  0.90929743,  0.14112001],\n",
       "       [-0.7568025 , -0.95892427, -0.2794155 ],\n",
       "       [ 0.6569866 ,  0.98935825,  0.41211849]])"
      ]
     },
     "execution_count": 81,
     "metadata": {},
     "output_type": "execute_result"
    }
   ],
   "source": [
    "np.sin(new_a)"
   ]
  },
  {
   "cell_type": "markdown",
   "id": "5238a5a8",
   "metadata": {},
   "source": [
    "**Matrix Dot Product**"
   ]
  },
  {
   "cell_type": "code",
   "execution_count": 84,
   "id": "8bc835d2",
   "metadata": {},
   "outputs": [
    {
     "data": {
      "text/plain": [
       "array([[1, 2, 3],\n",
       "       [4, 5, 6],\n",
       "       [7, 8, 9]])"
      ]
     },
     "execution_count": 84,
     "metadata": {},
     "output_type": "execute_result"
    }
   ],
   "source": [
    "new_a"
   ]
  },
  {
   "cell_type": "code",
   "execution_count": 85,
   "id": "c561ff0e",
   "metadata": {},
   "outputs": [
    {
     "data": {
      "text/plain": [
       "array([[10, 11, 12],\n",
       "       [13, 14, 15],\n",
       "       [16, 17, 18]])"
      ]
     },
     "execution_count": 85,
     "metadata": {},
     "output_type": "execute_result"
    }
   ],
   "source": [
    "new_b"
   ]
  },
  {
   "cell_type": "code",
   "execution_count": 89,
   "id": "e491e4a3",
   "metadata": {},
   "outputs": [
    {
     "data": {
      "text/plain": [
       "'\\n[ 1*10+2*13+3*16  1*11+2*14+3*17  1*12+2*15+3*18]\\n[ 4*10+5*13+6*16  4*11+5*14+6*17  4*12+5*15+6*18]\\n[ 7*10+8*13+9*16  7*11+8*14+9*17  7*12+8*15+9*18] \\n\\ncolumns of first matrix must match with rows of second matux to perform dot product.\\nresult take number of rows from first matrix and columns from second matrix\\n'"
      ]
     },
     "execution_count": 89,
     "metadata": {},
     "output_type": "execute_result"
    }
   ],
   "source": [
    "# How dot product works\n",
    "'''\n",
    "[ 1*10+2*13+3*16  1*11+2*14+3*17  1*12+2*15+3*18]\n",
    "[ 4*10+5*13+6*16  4*11+5*14+6*17  4*12+5*15+6*18]\n",
    "[ 7*10+8*13+9*16  7*11+8*14+9*17  7*12+8*15+9*18] \n",
    "\n",
    "columns of first matrix must match with rows of second matux to perform dot product.\n",
    "result take number of rows from first matrix and columns from second matrix\n",
    "'''"
   ]
  },
  {
   "cell_type": "code",
   "execution_count": 90,
   "id": "1b06c0a7",
   "metadata": {},
   "outputs": [
    {
     "name": "stdout",
     "output_type": "stream",
     "text": [
      "[[ 84  90  96]\n",
      " [201 216 231]\n",
      " [318 342 366]]\n"
     ]
    }
   ],
   "source": [
    "product = np.dot(new_a, new_b)\n",
    "print(product)"
   ]
  },
  {
   "cell_type": "code",
   "execution_count": null,
   "id": "dedd173c",
   "metadata": {},
   "outputs": [],
   "source": []
  },
  {
   "cell_type": "code",
   "execution_count": 95,
   "id": "5ead6023",
   "metadata": {},
   "outputs": [
    {
     "data": {
      "text/plain": [
       "array([[1, 2, 3],\n",
       "       [4, 5, 6],\n",
       "       [7, 8, 9]])"
      ]
     },
     "execution_count": 95,
     "metadata": {},
     "output_type": "execute_result"
    }
   ],
   "source": [
    "new_a"
   ]
  },
  {
   "cell_type": "code",
   "execution_count": 91,
   "id": "6274b0dc",
   "metadata": {},
   "outputs": [
    {
     "data": {
      "text/plain": [
       "array([[1.        , 1.41421356, 1.73205081],\n",
       "       [2.        , 2.23606798, 2.44948974],\n",
       "       [2.64575131, 2.82842712, 3.        ]])"
      ]
     },
     "execution_count": 91,
     "metadata": {},
     "output_type": "execute_result"
    }
   ],
   "source": [
    "# square root of new_a matrix\n",
    "np.sqrt(new_a)"
   ]
  },
  {
   "cell_type": "code",
   "execution_count": 93,
   "id": "746ef13e",
   "metadata": {},
   "outputs": [
    {
     "data": {
      "text/plain": [
       "45"
      ]
     },
     "execution_count": 93,
     "metadata": {},
     "output_type": "execute_result"
    }
   ],
   "source": [
    "# sum\n",
    "np.sum(new_a)"
   ]
  },
  {
   "cell_type": "code",
   "execution_count": 94,
   "id": "8c7c49cd",
   "metadata": {},
   "outputs": [
    {
     "data": {
      "text/plain": [
       "9"
      ]
     },
     "execution_count": 94,
     "metadata": {},
     "output_type": "execute_result"
    }
   ],
   "source": [
    "# maximum\n",
    "np.max(new_a)"
   ]
  },
  {
   "cell_type": "code",
   "execution_count": 96,
   "id": "cc4c3116",
   "metadata": {},
   "outputs": [
    {
     "data": {
      "text/plain": [
       "1"
      ]
     },
     "execution_count": 96,
     "metadata": {},
     "output_type": "execute_result"
    }
   ],
   "source": [
    "# minimum\n",
    "np.min(new_a)"
   ]
  },
  {
   "cell_type": "code",
   "execution_count": 97,
   "id": "3c8119ac",
   "metadata": {},
   "outputs": [
    {
     "data": {
      "text/plain": [
       "5.0"
      ]
     },
     "execution_count": 97,
     "metadata": {},
     "output_type": "execute_result"
    }
   ],
   "source": [
    "# mean\n",
    "np.mean(new_a)"
   ]
  },
  {
   "cell_type": "code",
   "execution_count": 98,
   "id": "fe1a79c8",
   "metadata": {},
   "outputs": [
    {
     "data": {
      "text/plain": [
       "2.581988897471611"
      ]
     },
     "execution_count": 98,
     "metadata": {},
     "output_type": "execute_result"
    }
   ],
   "source": [
    "# standard deviation\n",
    "np.std(new_a)"
   ]
  },
  {
   "cell_type": "code",
   "execution_count": 99,
   "id": "3c28dcc1",
   "metadata": {},
   "outputs": [
    {
     "data": {
      "text/plain": [
       "array([12, 15, 18])"
      ]
     },
     "execution_count": 99,
     "metadata": {},
     "output_type": "execute_result"
    }
   ],
   "source": [
    "# sum all by column wise\n",
    "np.sum(new_a, axis=0)"
   ]
  },
  {
   "cell_type": "code",
   "execution_count": 100,
   "id": "06bdb9ab",
   "metadata": {},
   "outputs": [
    {
     "data": {
      "text/plain": [
       "array([ 6, 15, 24])"
      ]
     },
     "execution_count": 100,
     "metadata": {},
     "output_type": "execute_result"
    }
   ],
   "source": [
    "# sum all by rows wise\n",
    "np.sum(new_a, axis=1)"
   ]
  },
  {
   "cell_type": "code",
   "execution_count": 102,
   "id": "6b816098",
   "metadata": {},
   "outputs": [
    {
     "data": {
      "text/plain": [
       "array([4., 5., 6.])"
      ]
     },
     "execution_count": 102,
     "metadata": {},
     "output_type": "execute_result"
    }
   ],
   "source": [
    "# Mean by column wise\n",
    "np.mean(new_a, axis=0)"
   ]
  },
  {
   "cell_type": "code",
   "execution_count": 103,
   "id": "07b6c79d",
   "metadata": {},
   "outputs": [
    {
     "data": {
      "text/plain": [
       "array([2., 5., 8.])"
      ]
     },
     "execution_count": 103,
     "metadata": {},
     "output_type": "execute_result"
    }
   ],
   "source": [
    "# Mean by rows wise\n",
    "np.mean(new_a, axis=1)"
   ]
  },
  {
   "cell_type": "code",
   "execution_count": null,
   "id": "d3c53a68",
   "metadata": {},
   "outputs": [],
   "source": []
  }
 ],
 "metadata": {
  "kernelspec": {
   "display_name": "Python 3 (ipykernel)",
   "language": "python",
   "name": "python3"
  },
  "language_info": {
   "codemirror_mode": {
    "name": "ipython",
    "version": 3
   },
   "file_extension": ".py",
   "mimetype": "text/x-python",
   "name": "python",
   "nbconvert_exporter": "python",
   "pygments_lexer": "ipython3",
   "version": "3.11.7"
  }
 },
 "nbformat": 4,
 "nbformat_minor": 5
}
