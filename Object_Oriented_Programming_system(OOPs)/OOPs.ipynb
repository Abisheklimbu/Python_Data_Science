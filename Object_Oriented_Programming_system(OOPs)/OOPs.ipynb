{
 "cells": [
  {
   "cell_type": "markdown",
   "id": "a9c41d35",
   "metadata": {},
   "source": [
    "**OOPs (Object Oriented Programming system):**\n",
    "1. **class and object:**\n",
    "   - class are blueprint or templetes for creating object. \n",
    "   -  A class defines the attributes (data) and methods (functions) that its objects will have.\n",
    "   \n",
    "2. **Abstraction, Encapsulation, Inheritance and Polymorphism**\n",
    "   - Abstraction: Abstraction involves hiding the complex implementation details of a system and exposing only the                    necessary and relevant parts. This is typically achieved through abstract classes and                              interfaces.\n",
    "   \n",
    "   \n",
    "   - Encapsulation: Encapsulation refers to the bundling of data (attributes) and methods (functions) that operate                     on the data into a single unit or class. It restricts direct access to some of an object's                         components, which is a means of preventing accidental interference and misuse of the methods                       and data. Encapsulation can be achieved through access modifiers like public, protected, and                       private.\n",
    "   \n",
    "   \n",
    "   - Inheritance: Inheritance is a mechanism where a new class inherits the properties and behaviors (methods) of                     an existing class. This helps to reuse and extend existing code.\n",
    "   \n",
    "   \n",
    "   - Polymorphism: Polymorphism allows methods to do different things based on the object it is acting upon. It is                    often achieved through method overriding and operator overloading."
   ]
  },
  {
   "cell_type": "markdown",
   "id": "3e260bfd",
   "metadata": {},
   "source": [
    "**Class**\n",
    "    - Classes are blueprint of any real world entity.\n",
    "    - eg1: Human wihch have different attributes like UnniqueIDno., Name, Hegiht etc.\n",
    "    - eg2: Car which have different attributes like CarBrand, CarNumber etc.\n",
    "    \n",
    "**Object**\n",
    "    - Object are instances of class \n",
    "    - eg1: Abishek\n",
    "    - eg2: BMW"
   ]
  },
  {
   "cell_type": "code",
   "execution_count": 39,
   "id": "3df89ffe",
   "metadata": {},
   "outputs": [
    {
     "name": "stdout",
     "output_type": "stream",
     "text": [
      "<class '__main__.Human'>\n"
     ]
    }
   ],
   "source": [
    "class Human():\n",
    "    pass\n",
    "#   ...\n",
    "\n",
    "Abishek = Human()\n",
    "print(type(Abishek))"
   ]
  },
  {
   "cell_type": "code",
   "execution_count": null,
   "id": "72ceb2ef",
   "metadata": {},
   "outputs": [],
   "source": []
  },
  {
   "cell_type": "markdown",
   "id": "44a6af9f",
   "metadata": {},
   "source": [
    "**Constructor of class**\n",
    "\n",
    "    - A constructor is a special member function of class that is executed whenever we create new object of that class.\n",
    "    \n",
    "    def __init__(self):\n",
    "        ..."
   ]
  },
  {
   "cell_type": "code",
   "execution_count": 41,
   "id": "2ef42b65",
   "metadata": {},
   "outputs": [],
   "source": [
    "class Human():\n",
    "    \n",
    "#   constructor\n",
    "    def __init__(self, name, age):\n",
    "        print(\"Creating an object.\")\n",
    "        \n",
    "        # instance variable\n",
    "        self.name = name \n",
    "        self.age = age"
   ]
  },
  {
   "cell_type": "code",
   "execution_count": 44,
   "id": "7903d216",
   "metadata": {},
   "outputs": [
    {
     "name": "stdout",
     "output_type": "stream",
     "text": [
      "Creating an object.\n"
     ]
    }
   ],
   "source": [
    "Abishek = Human(\"Abishek\", 20)"
   ]
  },
  {
   "cell_type": "code",
   "execution_count": 43,
   "id": "d7a374e0",
   "metadata": {},
   "outputs": [
    {
     "ename": "TypeError",
     "evalue": "Human.__init__() missing 2 required positional arguments: 'name' and 'age'",
     "output_type": "error",
     "traceback": [
      "\u001b[0;31m---------------------------------------------------------------------------\u001b[0m",
      "\u001b[0;31mTypeError\u001b[0m                                 Traceback (most recent call last)",
      "Cell \u001b[0;32mIn[43], line 2\u001b[0m\n\u001b[1;32m      1\u001b[0m \u001b[38;5;66;03m# h1 is instance variable\u001b[39;00m\n\u001b[0;32m----> 2\u001b[0m h1 \u001b[38;5;241m=\u001b[39m Human()\n",
      "\u001b[0;31mTypeError\u001b[0m: Human.__init__() missing 2 required positional arguments: 'name' and 'age'"
     ]
    }
   ],
   "source": [
    "# h1 is instance variable\n",
    "h1 = Human()"
   ]
  },
  {
   "cell_type": "code",
   "execution_count": 45,
   "id": "13789c59",
   "metadata": {},
   "outputs": [
    {
     "name": "stdout",
     "output_type": "stream",
     "text": [
      "Creating an object.\n",
      "Abishek\n",
      "20\n"
     ]
    }
   ],
   "source": [
    "h2 = Human(\"Abishek\", 20)\n",
    "print(h2.name)\n",
    "print(h2.age)"
   ]
  },
  {
   "cell_type": "code",
   "execution_count": null,
   "id": "5df32890",
   "metadata": {},
   "outputs": [],
   "source": []
  },
  {
   "cell_type": "markdown",
   "id": "729867bd",
   "metadata": {},
   "source": [
    "Defining instance method \n",
    "\n",
    "class Human( ):\n",
    "\n",
    "    ...\n",
    "    \n",
    "    def intro(self):\n",
    "        \n",
    "        pass"
   ]
  },
  {
   "cell_type": "code",
   "execution_count": 36,
   "id": "5fa76940",
   "metadata": {},
   "outputs": [],
   "source": [
    "class Human():\n",
    "    \n",
    "    # constructor\n",
    "    def __init__(self, name, age, height):\n",
    "        print(\"Creating Object\")\n",
    "        \n",
    "        #instance variable\n",
    "        self.name = name\n",
    "        self.age = age\n",
    "        self.height = height\n",
    "    \n",
    "    # instance method \n",
    "    def intro(self):\n",
    "        print(f\"My name is {self.name}. I am {self.age} year old and My height is {self.height} feet.\")\n",
    "        "
   ]
  },
  {
   "cell_type": "code",
   "execution_count": 37,
   "id": "325cd51d",
   "metadata": {},
   "outputs": [
    {
     "name": "stdout",
     "output_type": "stream",
     "text": [
      "Creating Object\n",
      "Abishek\n",
      "20\n",
      "5.6\n",
      "My name is Abishek. I am 20 year old and My height is 5.6 feet.\n"
     ]
    }
   ],
   "source": [
    "h1 = Human(\"Abishek\", 20, 5.6)\n",
    "print(h1.name)\n",
    "print(h1.age)\n",
    "print(h1.height)\n",
    "h1.intro()"
   ]
  },
  {
   "cell_type": "code",
   "execution_count": 38,
   "id": "64d54658",
   "metadata": {},
   "outputs": [
    {
     "name": "stdout",
     "output_type": "stream",
     "text": [
      "Creating Object\n",
      "Ram\n",
      "30\n",
      "5.8\n",
      "My name is Ram. I am 30 year old and My height is 5.8 feet.\n"
     ]
    }
   ],
   "source": [
    "h2 = Human(\"Ram\", 30, 5.8)\n",
    "print(h2.name)\n",
    "print(h2.age)\n",
    "print(h2.height)\n",
    "h2.intro()"
   ]
  },
  {
   "cell_type": "markdown",
   "id": "708e1b07",
   "metadata": {},
   "source": [
    "**Abstraction means hiding of implementation details and understanding what is the outcomes. Above code use abstraction : you are not showing how intro function works but if you use h1.intro() it shows or give result.**\n",
    "\n",
    "\n",
    "**Encapsulation means wraping of a different data/attributes under one name. Take example of dictionary:\n",
    "user_info = {'name':'Abshek', 'height' : 5.6, 'age': 20'}.**\n",
    "**Above code use encapsulation: because h1 can have different attributes like name, age, height, DOB etc. It means you are encapsulating different attributes on one name**\n",
    "\n"
   ]
  },
  {
   "cell_type": "code",
   "execution_count": null,
   "id": "3a884812",
   "metadata": {},
   "outputs": [],
   "source": []
  },
  {
   "cell_type": "markdown",
   "id": "5934f2b6",
   "metadata": {},
   "source": [
    "**Class Variable** It is common to all instances. It is associated with the class. "
   ]
  },
  {
   "cell_type": "code",
   "execution_count": 6,
   "id": "2fab5680",
   "metadata": {},
   "outputs": [],
   "source": [
    "class Human():\n",
    "#   class variable\n",
    "    database = []\n",
    "    population = 0\n",
    "    id_sequence = 1\n",
    "        \n",
    "    \n",
    "#   constructor\n",
    "    def __init__(self, name, age, is_alive = True):\n",
    "        \n",
    "#       instance variable\n",
    "        self.name = name\n",
    "        self.age = age\n",
    "        self.is_alive = is_alive\n",
    "        \n",
    "#       adding id of an object\n",
    "        self.id = Human.id_sequence\n",
    "        Human.id_sequence += 1\n",
    "        Human.population += 1\n",
    "        Human.database.append(self)\n",
    "\n",
    "        \n",
    "#   instance method \n",
    "    def introduction(self):\n",
    "        print(f\"{self.name} is {self.age} year old.\")\n",
    "        "
   ]
  },
  {
   "cell_type": "code",
   "execution_count": 7,
   "id": "255baade",
   "metadata": {},
   "outputs": [
    {
     "name": "stdout",
     "output_type": "stream",
     "text": [
      "Ram is 90 year old.\n"
     ]
    }
   ],
   "source": [
    "h1 = Human(\"Ram\", 90)\n",
    "h1.introduction()"
   ]
  },
  {
   "cell_type": "code",
   "execution_count": 12,
   "id": "f8ecee68",
   "metadata": {},
   "outputs": [
    {
     "data": {
      "text/plain": [
       "[<__main__.Human at 0x106311790>]"
      ]
     },
     "execution_count": 12,
     "metadata": {},
     "output_type": "execute_result"
    }
   ],
   "source": [
    "Human.database"
   ]
  },
  {
   "cell_type": "code",
   "execution_count": 13,
   "id": "0243ecc1",
   "metadata": {},
   "outputs": [
    {
     "data": {
      "text/plain": [
       "'Ram'"
      ]
     },
     "execution_count": 13,
     "metadata": {},
     "output_type": "execute_result"
    }
   ],
   "source": [
    "Human.database[0].name"
   ]
  },
  {
   "cell_type": "markdown",
   "id": "be7616a5",
   "metadata": {},
   "source": [
    "**Adding die() function**"
   ]
  },
  {
   "cell_type": "code",
   "execution_count": 14,
   "id": "b065ac1a",
   "metadata": {},
   "outputs": [],
   "source": [
    "# adding die() function.\n",
    "class Human():\n",
    "#   class variable\n",
    "    database = []\n",
    "    population = 0\n",
    "    id_sequence = 1\n",
    "        \n",
    "#   constructor\n",
    "    def __init__(self, name, age, is_alive = True):\n",
    "        \n",
    "#       instance variable\n",
    "        self.name = name\n",
    "        self.age = age\n",
    "        self.is_alive = is_alive    \n",
    "#       adding id of an object\n",
    "        self.id = Human.id_sequence\n",
    "        Human.id_sequence += 1\n",
    "        Human.population += 1\n",
    "        Human.database.append(self)\n",
    "\n",
    "        \n",
    "#   instance method \n",
    "    def introduction(self):\n",
    "        print(f\"{self.name} is {self.age} year old.\")\n",
    "    \n",
    "    def die(self):\n",
    "        if self.is_alive:\n",
    "            print(f\"{self.name} is dying.\")\n",
    "            self.is_alive = False\n",
    "            Human.population -= 1\n",
    "        else:\n",
    "            print(\"{} is already dead.\".format(self.name))\n",
    "        "
   ]
  },
  {
   "cell_type": "code",
   "execution_count": 19,
   "id": "8ff8eb3a",
   "metadata": {},
   "outputs": [],
   "source": [
    "h1 = Human(\"Ram\", 99)\n",
    "h2 = Human(\"Shyam\", 18)"
   ]
  },
  {
   "cell_type": "code",
   "execution_count": 20,
   "id": "ae3dcb6f",
   "metadata": {},
   "outputs": [
    {
     "data": {
      "text/plain": [
       "3"
      ]
     },
     "execution_count": 20,
     "metadata": {},
     "output_type": "execute_result"
    }
   ],
   "source": [
    "Human.population\n"
   ]
  },
  {
   "cell_type": "code",
   "execution_count": 21,
   "id": "987cfadc",
   "metadata": {},
   "outputs": [
    {
     "data": {
      "text/plain": [
       "[<__main__.Human at 0x10794ff10>,\n",
       " <__main__.Human at 0x10794c090>,\n",
       " <__main__.Human at 0x10794c190>,\n",
       " <__main__.Human at 0x10794f010>]"
      ]
     },
     "execution_count": 21,
     "metadata": {},
     "output_type": "execute_result"
    }
   ],
   "source": [
    "Human.database"
   ]
  },
  {
   "cell_type": "code",
   "execution_count": 23,
   "id": "3bbc0a05",
   "metadata": {},
   "outputs": [
    {
     "name": "stdout",
     "output_type": "stream",
     "text": [
      "Shyam is dying.\n"
     ]
    }
   ],
   "source": [
    "h2.die()"
   ]
  },
  {
   "cell_type": "code",
   "execution_count": 24,
   "id": "e0638483",
   "metadata": {},
   "outputs": [
    {
     "data": {
      "text/plain": [
       "1"
      ]
     },
     "execution_count": 24,
     "metadata": {},
     "output_type": "execute_result"
    }
   ],
   "source": [
    "Human.population\n"
   ]
  },
  {
   "cell_type": "code",
   "execution_count": 25,
   "id": "7d3a0289",
   "metadata": {},
   "outputs": [
    {
     "data": {
      "text/plain": [
       "5"
      ]
     },
     "execution_count": 25,
     "metadata": {},
     "output_type": "execute_result"
    }
   ],
   "source": [
    "Human.id_sequence"
   ]
  },
  {
   "cell_type": "code",
   "execution_count": 27,
   "id": "900607cd",
   "metadata": {},
   "outputs": [
    {
     "data": {
      "text/plain": [
       "'Ram'"
      ]
     },
     "execution_count": 27,
     "metadata": {},
     "output_type": "execute_result"
    }
   ],
   "source": [
    "Human.database[0].name"
   ]
  },
  {
   "cell_type": "code",
   "execution_count": null,
   "id": "71798765",
   "metadata": {},
   "outputs": [],
   "source": []
  },
  {
   "cell_type": "markdown",
   "id": "7a6be826",
   "metadata": {},
   "source": [
    "**Magic Function** they are called automatically when some particular event occur. eg: _ _repr__ , _ _str__"
   ]
  },
  {
   "cell_type": "code",
   "execution_count": 29,
   "id": "59fabce3",
   "metadata": {},
   "outputs": [
    {
     "data": {
      "text/plain": [
       "['__class__',\n",
       " '__delattr__',\n",
       " '__dict__',\n",
       " '__dir__',\n",
       " '__doc__',\n",
       " '__eq__',\n",
       " '__format__',\n",
       " '__ge__',\n",
       " '__getattribute__',\n",
       " '__getstate__',\n",
       " '__gt__',\n",
       " '__hash__',\n",
       " '__init__',\n",
       " '__init_subclass__',\n",
       " '__le__',\n",
       " '__lt__',\n",
       " '__module__',\n",
       " '__ne__',\n",
       " '__new__',\n",
       " '__reduce__',\n",
       " '__reduce_ex__',\n",
       " '__repr__',\n",
       " '__setattr__',\n",
       " '__sizeof__',\n",
       " '__str__',\n",
       " '__subclasshook__',\n",
       " '__weakref__',\n",
       " 'age',\n",
       " 'database',\n",
       " 'die',\n",
       " 'id',\n",
       " 'id_sequence',\n",
       " 'introduction',\n",
       " 'is_alive',\n",
       " 'name',\n",
       " 'population']"
      ]
     },
     "execution_count": 29,
     "metadata": {},
     "output_type": "execute_result"
    }
   ],
   "source": [
    "dir(h1)"
   ]
  },
  {
   "cell_type": "code",
   "execution_count": 43,
   "id": "6f2c1fab",
   "metadata": {},
   "outputs": [],
   "source": [
    "# adding die() function.\n",
    "class Human():\n",
    "#   class variable\n",
    "    database = []\n",
    "    population = 0\n",
    "    id_sequence = 1\n",
    "        \n",
    "#   constructor\n",
    "    def __init__(self, name, age, is_alive = True):\n",
    "        \n",
    "#       instance variable\n",
    "        self.name = name\n",
    "        self.age = age\n",
    "        self.is_alive = is_alive    \n",
    "#       adding id of an object\n",
    "        self.id = Human.id_sequence\n",
    "        Human.id_sequence += 1\n",
    "        Human.population += 1\n",
    "        Human.database.append(self)\n",
    "\n",
    "        \n",
    "#   instance method \n",
    "    def introduction(self):\n",
    "        print(f\"{self.name} is {self.age} year old.\")\n",
    "    \n",
    "    def die(self):\n",
    "        if self.is_alive:\n",
    "            print(f\"{self.name} is dying.\")\n",
    "            self.is_alive = False\n",
    "            Human.population -= 1\n",
    "        else:\n",
    "            print(\"{} is already dead.\".format(self.name))\n",
    "\n",
    "#   magic function \n",
    "    def __repr__(self):\n",
    "        \"\"\"\n",
    "        this function needs to return string\n",
    "        \"\"\"\n",
    "        return \"[{}, {}, {}, {}]\" .format(self.id, self.name, self.age, self.is_alive)"
   ]
  },
  {
   "cell_type": "code",
   "execution_count": 44,
   "id": "b20f9e9b",
   "metadata": {},
   "outputs": [],
   "source": [
    "h1 = Human('Ram', 99)"
   ]
  },
  {
   "cell_type": "code",
   "execution_count": 45,
   "id": "143fed5d",
   "metadata": {},
   "outputs": [
    {
     "name": "stdout",
     "output_type": "stream",
     "text": [
      "[1, Ram, 99, True]\n"
     ]
    }
   ],
   "source": [
    "print(h1)"
   ]
  },
  {
   "cell_type": "code",
   "execution_count": null,
   "id": "26dd3f71",
   "metadata": {},
   "outputs": [],
   "source": []
  }
 ],
 "metadata": {
  "kernelspec": {
   "display_name": "Python 3 (ipykernel)",
   "language": "python",
   "name": "python3"
  },
  "language_info": {
   "codemirror_mode": {
    "name": "ipython",
    "version": 3
   },
   "file_extension": ".py",
   "mimetype": "text/x-python",
   "name": "python",
   "nbconvert_exporter": "python",
   "pygments_lexer": "ipython3",
   "version": "3.11.7"
  }
 },
 "nbformat": 4,
 "nbformat_minor": 5
}
