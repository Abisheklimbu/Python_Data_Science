{
 "cells": [
  {
   "cell_type": "markdown",
   "id": "a9c41d35",
   "metadata": {},
   "source": [
    "**OOPs (Object Oriented Programming system):**\n",
    "1. **class and object:**\n",
    "   - class are blueprint or templetes for creating object. \n",
    "   -  A class defines the attributes (data) and methods (functions) that its objects will have.\n",
    "   \n",
    "2. **Abstraction, Encapsulation, Inheritance and Polymorphism**\n",
    "   - Abstraction: Abstraction involves hiding the complex implementation details of a system and exposing only the                    necessary and relevant parts. This is typically achieved through abstract classes and                              interfaces.\n",
    "   \n",
    "   \n",
    "   - Encapsulation: Encapsulation refers to the bundling of data (attributes) and methods (functions) that operate                     on the data into a single unit or class. It restricts direct access to some of an object's                         components, which is a means of preventing accidental interference and misuse of the methods                       and data. Encapsulation can be achieved through access modifiers like public, protected, and                       private.\n",
    "   \n",
    "   \n",
    "   - Inheritance: Inheritance is a mechanism where a new class inherits the properties and behaviors (methods) of                     an existing class. This helps to reuse and extend existing code.\n",
    "   \n",
    "   \n",
    "   - Polymorphism: Polymorphism allows methods to do different things based on the object it is acting upon. It is                    often achieved through method overriding and operator overloading."
   ]
  },
  {
   "cell_type": "markdown",
   "id": "3e260bfd",
   "metadata": {},
   "source": [
    "**Class**\n",
    "    - Classes are blueprint of any real world entity.\n",
    "    - eg1: Human wihch have different attributes like UnniqueIDno., Name, Hegiht etc.\n",
    "    - eg2: Car which have different attributes like CarBrand, CarNumber etc.\n",
    "    \n",
    "**Object**\n",
    "    - Object are instances of class \n",
    "    - eg1: Abishek\n",
    "    - eg2: BMW"
   ]
  },
  {
   "cell_type": "code",
   "execution_count": 39,
   "id": "3df89ffe",
   "metadata": {},
   "outputs": [
    {
     "name": "stdout",
     "output_type": "stream",
     "text": [
      "<class '__main__.Human'>\n"
     ]
    }
   ],
   "source": [
    "class Human():\n",
    "    pass\n",
    "#   ...\n",
    "\n",
    "Abishek = Human()\n",
    "print(type(Abishek))"
   ]
  },
  {
   "cell_type": "code",
   "execution_count": null,
   "id": "72ceb2ef",
   "metadata": {},
   "outputs": [],
   "source": []
  },
  {
   "cell_type": "markdown",
   "id": "44a6af9f",
   "metadata": {},
   "source": [
    "**Constructor of class**\n",
    "\n",
    "    - A constructor is a special member function of class that is executed whenever we create new object of that class.\n",
    "    \n",
    "    def __init__(self):\n",
    "        ..."
   ]
  },
  {
   "cell_type": "code",
   "execution_count": 41,
   "id": "2ef42b65",
   "metadata": {},
   "outputs": [],
   "source": [
    "class Human():\n",
    "    \n",
    "#   constructor\n",
    "    def __init__(self, name, age):\n",
    "        print(\"Creating an object.\")\n",
    "        \n",
    "        # instance variable\n",
    "        self.name = name \n",
    "        self.age = age"
   ]
  },
  {
   "cell_type": "code",
   "execution_count": 44,
   "id": "7903d216",
   "metadata": {},
   "outputs": [
    {
     "name": "stdout",
     "output_type": "stream",
     "text": [
      "Creating an object.\n"
     ]
    }
   ],
   "source": [
    "Abishek = Human(\"Abishek\", 20)"
   ]
  },
  {
   "cell_type": "code",
   "execution_count": 43,
   "id": "d7a374e0",
   "metadata": {},
   "outputs": [
    {
     "ename": "TypeError",
     "evalue": "Human.__init__() missing 2 required positional arguments: 'name' and 'age'",
     "output_type": "error",
     "traceback": [
      "\u001b[0;31m---------------------------------------------------------------------------\u001b[0m",
      "\u001b[0;31mTypeError\u001b[0m                                 Traceback (most recent call last)",
      "Cell \u001b[0;32mIn[43], line 2\u001b[0m\n\u001b[1;32m      1\u001b[0m \u001b[38;5;66;03m# h1 is instance variable\u001b[39;00m\n\u001b[0;32m----> 2\u001b[0m h1 \u001b[38;5;241m=\u001b[39m Human()\n",
      "\u001b[0;31mTypeError\u001b[0m: Human.__init__() missing 2 required positional arguments: 'name' and 'age'"
     ]
    }
   ],
   "source": [
    "# h1 is instance variable\n",
    "h1 = Human()"
   ]
  },
  {
   "cell_type": "code",
   "execution_count": 45,
   "id": "13789c59",
   "metadata": {},
   "outputs": [
    {
     "name": "stdout",
     "output_type": "stream",
     "text": [
      "Creating an object.\n",
      "Abishek\n",
      "20\n"
     ]
    }
   ],
   "source": [
    "h2 = Human(\"Abishek\", 20)\n",
    "print(h2.name)\n",
    "print(h2.age)"
   ]
  },
  {
   "cell_type": "code",
   "execution_count": null,
   "id": "5df32890",
   "metadata": {},
   "outputs": [],
   "source": []
  },
  {
   "cell_type": "markdown",
   "id": "729867bd",
   "metadata": {},
   "source": [
    "Defining instance method \n",
    "\n",
    "class Human( ):\n",
    "\n",
    "    ...\n",
    "    \n",
    "    def intro(self):\n",
    "        \n",
    "        pass"
   ]
  },
  {
   "cell_type": "code",
   "execution_count": 36,
   "id": "5fa76940",
   "metadata": {},
   "outputs": [],
   "source": [
    "class Human():\n",
    "    \n",
    "    # constructor\n",
    "    def __init__(self, name, age, height):\n",
    "        print(\"Creating Object\")\n",
    "        \n",
    "        #instance variable\n",
    "        self.name = name\n",
    "        self.age = age\n",
    "        self.height = height\n",
    "    \n",
    "    # instance method \n",
    "    def intro(self):\n",
    "        print(f\"My name is {self.name}. I am {self.age} year old and My height is {self.height} feet.\")\n",
    "        "
   ]
  },
  {
   "cell_type": "code",
   "execution_count": 37,
   "id": "325cd51d",
   "metadata": {},
   "outputs": [
    {
     "name": "stdout",
     "output_type": "stream",
     "text": [
      "Creating Object\n",
      "Abishek\n",
      "20\n",
      "5.6\n",
      "My name is Abishek. I am 20 year old and My height is 5.6 feet.\n"
     ]
    }
   ],
   "source": [
    "h1 = Human(\"Abishek\", 20, 5.6)\n",
    "print(h1.name)\n",
    "print(h1.age)\n",
    "print(h1.height)\n",
    "h1.intro()"
   ]
  },
  {
   "cell_type": "code",
   "execution_count": 38,
   "id": "64d54658",
   "metadata": {},
   "outputs": [
    {
     "name": "stdout",
     "output_type": "stream",
     "text": [
      "Creating Object\n",
      "Ram\n",
      "30\n",
      "5.8\n",
      "My name is Ram. I am 30 year old and My height is 5.8 feet.\n"
     ]
    }
   ],
   "source": [
    "h2 = Human(\"Ram\", 30, 5.8)\n",
    "print(h2.name)\n",
    "print(h2.age)\n",
    "print(h2.height)\n",
    "h2.intro()"
   ]
  },
  {
   "cell_type": "markdown",
   "id": "708e1b07",
   "metadata": {},
   "source": [
    "**Abstraction means hiding of implementation details and understanding what is the outcomes. Above code use abstraction : you are not showing how intro function works but if you use h1.intro() it shows or give result.**\n",
    "\n",
    "\n",
    "**Encapsulation means wraping of a different data/attributes under one name. Take example of dictionary:\n",
    "user_info = {'name':'Abshek', 'height' : 5.6, 'age': 20'}.**\n",
    "**Above code use encapsulation: because h1 can have different attributes like name, age, height, DOB etc. It means you are encapsulating different attributes on one name**\n",
    "\n"
   ]
  },
  {
   "cell_type": "code",
   "execution_count": null,
   "id": "3a884812",
   "metadata": {},
   "outputs": [],
   "source": []
  }
 ],
 "metadata": {
  "kernelspec": {
   "display_name": "Python 3 (ipykernel)",
   "language": "python",
   "name": "python3"
  },
  "language_info": {
   "codemirror_mode": {
    "name": "ipython",
    "version": 3
   },
   "file_extension": ".py",
   "mimetype": "text/x-python",
   "name": "python",
   "nbconvert_exporter": "python",
   "pygments_lexer": "ipython3",
   "version": "3.11.7"
  }
 },
 "nbformat": 4,
 "nbformat_minor": 5
}
