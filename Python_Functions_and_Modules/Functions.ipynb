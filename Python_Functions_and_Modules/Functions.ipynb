{
 "cells": [
  {
   "cell_type": "markdown",
   "id": "28adf2c4",
   "metadata": {},
   "source": [
    "**Functions** helps to achieve responsibility of code. It helps in avoid of repetation of code. It is built-in function and user define. \n",
    "\n",
    "**Syntax:**\n",
    "\n",
    "        def func_name(parameters):\n",
    "        \n",
    "            statements ..."
   ]
  },
  {
   "cell_type": "code",
   "execution_count": 1,
   "id": "ae9ac6bc",
   "metadata": {},
   "outputs": [
    {
     "name": "stdout",
     "output_type": "stream",
     "text": [
      "<function greetings at 0x111c66700>\n",
      "<class 'function'>\n"
     ]
    }
   ],
   "source": [
    "def greetings(name):\n",
    "    print(\"Namaste\", name)\n",
    "\n",
    "print(greetings)\n",
    "print(type(greetings))"
   ]
  },
  {
   "cell_type": "code",
   "execution_count": 3,
   "id": "9ba00779",
   "metadata": {},
   "outputs": [
    {
     "name": "stdout",
     "output_type": "stream",
     "text": [
      "Namaste Abishek\n"
     ]
    }
   ],
   "source": [
    "greetings(\"Abishek\")"
   ]
  },
  {
   "cell_type": "code",
   "execution_count": 8,
   "id": "816ec412",
   "metadata": {},
   "outputs": [
    {
     "name": "stdout",
     "output_type": "stream",
     "text": [
      "a + b: 10\n"
     ]
    }
   ],
   "source": [
    "def add(a,b):\n",
    "    return a + b\n",
    "\n",
    "addition = add(5,5)\n",
    "print(\"a + b:\", addition)"
   ]
  },
  {
   "cell_type": "code",
   "execution_count": 19,
   "id": "f1017dd8",
   "metadata": {},
   "outputs": [],
   "source": [
    "def product(lst):\n",
    "    s=1\n",
    "    for i in lst:\n",
    "        s*=i\n",
    "    return s"
   ]
  },
  {
   "cell_type": "code",
   "execution_count": 21,
   "id": "7977f5bd",
   "metadata": {},
   "outputs": [
    {
     "name": "stdout",
     "output_type": "stream",
     "text": [
      "10\n"
     ]
    }
   ],
   "source": [
    "result = product([2,5])\n",
    "print(result)"
   ]
  },
  {
   "cell_type": "code",
   "execution_count": null,
   "id": "5bf2f035",
   "metadata": {},
   "outputs": [],
   "source": []
  },
  {
   "cell_type": "markdown",
   "id": "8c1eb30f",
   "metadata": {},
   "source": [
    "**Function can return multiple of value in form of tuples**"
   ]
  },
  {
   "cell_type": "code",
   "execution_count": 24,
   "id": "affd6fee",
   "metadata": {},
   "outputs": [],
   "source": [
    "def calculator(a,b):\n",
    "    return (a+b, a*b, a-b, b/a)"
   ]
  },
  {
   "cell_type": "code",
   "execution_count": 25,
   "id": "18a17de4",
   "metadata": {},
   "outputs": [
    {
     "data": {
      "text/plain": [
       "(30, 200, 10, 0.5)"
      ]
     },
     "execution_count": 25,
     "metadata": {},
     "output_type": "execute_result"
    }
   ],
   "source": [
    "calculator(20,10)"
   ]
  },
  {
   "cell_type": "code",
   "execution_count": null,
   "id": "c5b501e6",
   "metadata": {},
   "outputs": [],
   "source": []
  },
  {
   "cell_type": "markdown",
   "id": "936a2a2d",
   "metadata": {},
   "source": [
    "**Arguments** and **Parameters** in Function\n",
    "\n",
    "parameters are variable that you define in a function. def geetings(name): Here name is parameters.  \n",
    "\n",
    "\n",
    "whenever you call a function and you pass some values they are are arguments. greetings(\"Absihek). Here Abishek is arguments. "
   ]
  },
  {
   "cell_type": "code",
   "execution_count": 29,
   "id": "01768b87",
   "metadata": {},
   "outputs": [],
   "source": [
    "def intro(name, country):\n",
    "    print(\"My name is\", name)\n",
    "    print(\"I am from\", country)"
   ]
  },
  {
   "cell_type": "code",
   "execution_count": 30,
   "id": "c1bd0cb3",
   "metadata": {},
   "outputs": [
    {
     "name": "stdout",
     "output_type": "stream",
     "text": [
      "My name is Abishek\n",
      "I am from Nepal\n"
     ]
    }
   ],
   "source": [
    "intro(\"Abishek\", \"Nepal\")"
   ]
  },
  {
   "cell_type": "markdown",
   "id": "d7b720e8",
   "metadata": {},
   "source": [
    "**Default Parameters** they have some default values. "
   ]
  },
  {
   "cell_type": "code",
   "execution_count": 33,
   "id": "44e69ba1",
   "metadata": {},
   "outputs": [],
   "source": [
    "def intro(name, country = \"USA\"):\n",
    "    print(\"My name is\", name)\n",
    "    print(\"I am from\", country)"
   ]
  },
  {
   "cell_type": "code",
   "execution_count": 34,
   "id": "8e71a0e2",
   "metadata": {},
   "outputs": [
    {
     "name": "stdout",
     "output_type": "stream",
     "text": [
      "My name is Abishek\n",
      "I am from USA\n"
     ]
    }
   ],
   "source": [
    "intro(\"Abishek\")"
   ]
  },
  {
   "cell_type": "code",
   "execution_count": null,
   "id": "0b7a6bcf",
   "metadata": {},
   "outputs": [],
   "source": []
  }
 ],
 "metadata": {
  "kernelspec": {
   "display_name": "Python 3 (ipykernel)",
   "language": "python",
   "name": "python3"
  },
  "language_info": {
   "codemirror_mode": {
    "name": "ipython",
    "version": 3
   },
   "file_extension": ".py",
   "mimetype": "text/x-python",
   "name": "python",
   "nbconvert_exporter": "python",
   "pygments_lexer": "ipython3",
   "version": "3.11.7"
  }
 },
 "nbformat": 4,
 "nbformat_minor": 5
}
