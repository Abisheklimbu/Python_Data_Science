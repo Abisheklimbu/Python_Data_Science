{
 "cells": [
  {
   "cell_type": "markdown",
   "id": "e7799fc9",
   "metadata": {},
   "source": [
    "**Operators**\n",
    "1. Arthmetic operators (+, - , * , / , // , ** , % )\n",
    "2. Comparison operators (> , < , >= , <= , == , != )\n",
    "3. Logical operators (and, or, not)\n",
    "4. Bitwise operators (& , | ,  ^)\n",
    "5. Membership operators (in)"
   ]
  },
  {
   "cell_type": "code",
   "execution_count": 1,
   "id": "b90cb460",
   "metadata": {},
   "outputs": [],
   "source": [
    "# storing values in variables\n",
    "num_1 = 20\n",
    "num_2 = 10"
   ]
  },
  {
   "cell_type": "code",
   "execution_count": 2,
   "id": "0786b882",
   "metadata": {},
   "outputs": [],
   "source": [
    "# Arthmetic operators \n",
    "add = num_1 + num_2\n",
    "sub = num_1 - num_2\n",
    "mul = num_1 * num_2\n",
    "div = num_1 / num_2\n",
    "floor_div = num_1 // num_2      # remove decimal part\n",
    "power = num_1 ** num_2          # 20^10\n",
    "modules = num_1 % num_2         # gives remainder"
   ]
  },
  {
   "cell_type": "code",
   "execution_count": 5,
   "id": "e9e8b29c",
   "metadata": {},
   "outputs": [
    {
     "name": "stdout",
     "output_type": "stream",
     "text": [
      "num_1 + num_2 =  30\n",
      "num_1 - num_2 =  10\n",
      "num_1 * num_2 =  200\n",
      "num_1 / num_2 =  2.0\n",
      "num_1 // num_2 =  2\n",
      "num_1 ** num_2 =  10240000000000\n",
      "num_1 % num_2 =  0\n"
     ]
    }
   ],
   "source": [
    "# Printing answers \n",
    "print(\"num_1 + num_2 = \", add)\n",
    "print(\"num_1 - num_2 = \", sub)\n",
    "print(\"num_1 * num_2 = \", mul)\n",
    "print(\"num_1 / num_2 = \", div)\n",
    "print(\"num_1 // num_2 = \", floor_div)\n",
    "print(\"num_1 ** num_2 = \", power)\n",
    "print(\"num_1 % num_2 = \", modules)"
   ]
  },
  {
   "cell_type": "markdown",
   "id": "b7265ba0",
   "metadata": {},
   "source": [
    "**Comparision Operators**"
   ]
  },
  {
   "cell_type": "code",
   "execution_count": 6,
   "id": "0cabefe9",
   "metadata": {},
   "outputs": [
    {
     "name": "stdout",
     "output_type": "stream",
     "text": [
      "a > b  True\n"
     ]
    }
   ],
   "source": [
    "# is a greater than b (a=20, b=10)\n",
    "print(\"a > b \", num_1 > num_2)"
   ]
  },
  {
   "cell_type": "code",
   "execution_count": 7,
   "id": "db453070",
   "metadata": {},
   "outputs": [
    {
     "name": "stdout",
     "output_type": "stream",
     "text": [
      "a < b  False\n"
     ]
    }
   ],
   "source": [
    "# is a smaller than b (a=20, b=10)\n",
    "print(\"a < b \", num_1 < num_2)"
   ]
  },
  {
   "cell_type": "code",
   "execution_count": 8,
   "id": "399e0101",
   "metadata": {},
   "outputs": [
    {
     "name": "stdout",
     "output_type": "stream",
     "text": [
      "a >= b  True\n"
     ]
    }
   ],
   "source": [
    "# is a greater or eqauls to b (a=20, b=10)\n",
    "print(\"a >= b \", num_1 > num_2)"
   ]
  },
  {
   "cell_type": "code",
   "execution_count": 9,
   "id": "a4959788",
   "metadata": {},
   "outputs": [
    {
     "name": "stdout",
     "output_type": "stream",
     "text": [
      "a =< b  False\n"
     ]
    }
   ],
   "source": [
    "# is a smaller or equals to b (a=20, b=10)\n",
    "print(\"a =< b \", num_1 < num_2)"
   ]
  },
  {
   "cell_type": "code",
   "execution_count": 10,
   "id": "870f23a9",
   "metadata": {},
   "outputs": [
    {
     "name": "stdout",
     "output_type": "stream",
     "text": [
      "a == b  False\n"
     ]
    }
   ],
   "source": [
    "# is a equals to b (a=20, b=10)\n",
    "print(\"a == b \", num_1 == num_2)"
   ]
  },
  {
   "cell_type": "code",
   "execution_count": 14,
   "id": "46a64dac",
   "metadata": {},
   "outputs": [
    {
     "name": "stdout",
     "output_type": "stream",
     "text": [
      "a != b  True\n"
     ]
    }
   ],
   "source": [
    "# is a not equals to b (a=20, b=10)\n",
    "print(\"a != b \", num_1 != num_2)"
   ]
  },
  {
   "cell_type": "markdown",
   "id": "6fec7457",
   "metadata": {},
   "source": [
    "**Logical Operators**\n",
    "1. **and**: returns true if both condition are true else retuns false \n",
    "2. **or**: returns true if one of the condition are true among two conditions, retrns false if both coditions are false  \n",
    "3. **not**: returns Negation"
   ]
  },
  {
   "cell_type": "code",
   "execution_count": 11,
   "id": "702740e5",
   "metadata": {},
   "outputs": [
    {
     "name": "stdout",
     "output_type": "stream",
     "text": [
      "True\n",
      "False\n"
     ]
    }
   ],
   "source": [
    "# and \n",
    "print((10>5) and (10>6))\n",
    "print((10>5) and (10>20))"
   ]
  },
  {
   "cell_type": "code",
   "execution_count": 17,
   "id": "c052df28",
   "metadata": {},
   "outputs": [
    {
     "name": "stdout",
     "output_type": "stream",
     "text": [
      "True\n",
      "True\n",
      "False\n"
     ]
    }
   ],
   "source": [
    "# or\n",
    "print((10>5) or (10>6))\n",
    "print((10>5) or (10>20))\n",
    "print((10>25) and (10>20))"
   ]
  },
  {
   "cell_type": "code",
   "execution_count": 19,
   "id": "ca7a7dc2",
   "metadata": {},
   "outputs": [
    {
     "name": "stdout",
     "output_type": "stream",
     "text": [
      "False\n",
      "True\n"
     ]
    }
   ],
   "source": [
    "# not\n",
    "print(not True)\n",
    "print(not False)"
   ]
  },
  {
   "cell_type": "markdown",
   "id": "bb6e7ee7",
   "metadata": {},
   "source": [
    "**Bitwise Operators** "
   ]
  },
  {
   "cell_type": "code",
   "execution_count": 21,
   "id": "8a883113",
   "metadata": {},
   "outputs": [
    {
     "name": "stdout",
     "output_type": "stream",
     "text": [
      "0\n"
     ]
    }
   ],
   "source": [
    "# bitwise & of 10 with 4\n",
    "# Binary of 10 = 1010  matching the condition true or false \n",
    "# Binary of 4  = 0100\n",
    "# Result       = 0000 so, answers also be: 0 \n",
    "print(10 & 4)"
   ]
  },
  {
   "cell_type": "code",
   "execution_count": 12,
   "id": "9e3605dd",
   "metadata": {},
   "outputs": [
    {
     "name": "stdout",
     "output_type": "stream",
     "text": [
      "14\n"
     ]
    }
   ],
   "source": [
    "# bitwise | of 10 with 4\n",
    "# Binary of 10 = 1010 \n",
    "# Binary of 4  = 0100\n",
    "# Result       = 1110\n",
    "#              = 2220\n",
    "# 2^3 + 2^2 + 2^1 + 0 = 8 + 4 + 2 + 0 = 14\n",
    "print(10 | 4)"
   ]
  },
  {
   "cell_type": "markdown",
   "id": "beb65277",
   "metadata": {},
   "source": [
    "**Membership Operators**"
   ]
  },
  {
   "cell_type": "code",
   "execution_count": 23,
   "id": "ee69cc68",
   "metadata": {},
   "outputs": [
    {
     "data": {
      "text/plain": [
       "True"
      ]
     },
     "execution_count": 23,
     "metadata": {},
     "output_type": "execute_result"
    }
   ],
   "source": [
    "\"Good\" in \"Good Morning\""
   ]
  },
  {
   "cell_type": "code",
   "execution_count": 24,
   "id": "473377f8",
   "metadata": {},
   "outputs": [
    {
     "data": {
      "text/plain": [
       "False"
      ]
     },
     "execution_count": 24,
     "metadata": {},
     "output_type": "execute_result"
    }
   ],
   "source": [
    "\"Night\" in \"Good Morning\""
   ]
  }
 ],
 "metadata": {
  "kernelspec": {
   "display_name": "Python 3 (ipykernel)",
   "language": "python",
   "name": "python3"
  },
  "language_info": {
   "codemirror_mode": {
    "name": "ipython",
    "version": 3
   },
   "file_extension": ".py",
   "mimetype": "text/x-python",
   "name": "python",
   "nbconvert_exporter": "python",
   "pygments_lexer": "ipython3",
   "version": "3.11.7"
  }
 },
 "nbformat": 4,
 "nbformat_minor": 5
}
