{
 "cells": [
  {
   "cell_type": "markdown",
   "id": "49bbd9a1",
   "metadata": {},
   "source": [
    "**String** in python are the sequence of unicode characters. \n"
   ]
  },
  {
   "cell_type": "code",
   "execution_count": 1,
   "id": "1e480c53",
   "metadata": {},
   "outputs": [],
   "source": [
    "my_str = \"Python is necessary for Machine Learning.\""
   ]
  },
  {
   "cell_type": "code",
   "execution_count": 2,
   "id": "b40f6477",
   "metadata": {},
   "outputs": [
    {
     "name": "stdout",
     "output_type": "stream",
     "text": [
      "Python is necessary for Machine Learning.\n",
      "<class 'str'>\n"
     ]
    }
   ],
   "source": [
    "print(my_str)\n",
    "print(type(my_str))"
   ]
  },
  {
   "cell_type": "markdown",
   "id": "9aaa56b0",
   "metadata": {},
   "source": [
    "**Indexing** is accessing one character based on position. "
   ]
  },
  {
   "cell_type": "code",
   "execution_count": 3,
   "id": "0e466624",
   "metadata": {},
   "outputs": [
    {
     "name": "stdout",
     "output_type": "stream",
     "text": [
      "P\n",
      "y\n"
     ]
    }
   ],
   "source": [
    "print(my_str[0])\n",
    "print(my_str[1])"
   ]
  },
  {
   "cell_type": "code",
   "execution_count": 4,
   "id": "66c1bbf7",
   "metadata": {},
   "outputs": [
    {
     "name": "stdout",
     "output_type": "stream",
     "text": [
      "41\n"
     ]
    }
   ],
   "source": [
    "# printing total numbers of characters in string \n",
    "print(len(my_str))"
   ]
  },
  {
   "cell_type": "code",
   "execution_count": 5,
   "id": "bf1d3322",
   "metadata": {},
   "outputs": [
    {
     "name": "stdout",
     "output_type": "stream",
     "text": [
      ".\n"
     ]
    }
   ],
   "source": [
    "# accessing the last elements of string\n",
    "print(my_str[len(my_str)-1])"
   ]
  },
  {
   "cell_type": "markdown",
   "id": "309bf76b",
   "metadata": {},
   "source": [
    "**Negative Indexing**"
   ]
  },
  {
   "cell_type": "code",
   "execution_count": 6,
   "id": "4cbe34ce",
   "metadata": {},
   "outputs": [
    {
     "name": "stdout",
     "output_type": "stream",
     "text": [
      ".\n",
      "g\n"
     ]
    }
   ],
   "source": [
    "# accessing the last elements of string\n",
    "print(my_str[-1])\n",
    "\n",
    "# accessing the second-last elements of string\n",
    "print(my_str[-2])"
   ]
  },
  {
   "cell_type": "markdown",
   "id": "ef78b2c4",
   "metadata": {},
   "source": [
    "**String Sclicing** is extracting multiple character from string. \n",
    "\n",
    "syntax: my_str[start_index: end_index + 1]"
   ]
  },
  {
   "cell_type": "code",
   "execution_count": 7,
   "id": "38f042fc",
   "metadata": {},
   "outputs": [
    {
     "name": "stdout",
     "output_type": "stream",
     "text": [
      "Python\n"
     ]
    }
   ],
   "source": [
    "print(my_str[0:6])"
   ]
  },
  {
   "cell_type": "code",
   "execution_count": 8,
   "id": "f2d4e291",
   "metadata": {},
   "outputs": [
    {
     "name": "stdout",
     "output_type": "stream",
     "text": [
      "Python is necessary for Machine Learning.\n"
     ]
    }
   ],
   "source": [
    "print(my_str[:])"
   ]
  },
  {
   "cell_type": "code",
   "execution_count": 9,
   "id": "0713be87",
   "metadata": {},
   "outputs": [
    {
     "name": "stdout",
     "output_type": "stream",
     "text": [
      "Python is necessary for Machine Learn\n"
     ]
    }
   ],
   "source": [
    "# printing all the character except the 4 last character\n",
    "print(my_str[:-4])"
   ]
  },
  {
   "cell_type": "code",
   "execution_count": null,
   "id": "e136662d",
   "metadata": {},
   "outputs": [],
   "source": []
  },
  {
   "cell_type": "markdown",
   "id": "9d9c1414",
   "metadata": {},
   "source": [
    "**Important methods related to strings**"
   ]
  },
  {
   "cell_type": "code",
   "execution_count": 10,
   "id": "70b2cc48",
   "metadata": {},
   "outputs": [
    {
     "data": {
      "text/plain": [
       "'python is necessary for machine learning.'"
      ]
     },
     "execution_count": 10,
     "metadata": {},
     "output_type": "execute_result"
    }
   ],
   "source": [
    "# converting string into lowercase \n",
    "my_str.lower()"
   ]
  },
  {
   "cell_type": "code",
   "execution_count": 11,
   "id": "971d100b",
   "metadata": {},
   "outputs": [
    {
     "data": {
      "text/plain": [
       "'PYTHON IS NECESSARY FOR MACHINE LEARNING.'"
      ]
     },
     "execution_count": 11,
     "metadata": {},
     "output_type": "execute_result"
    }
   ],
   "source": [
    "# converting string into uppercase\n",
    "my_str.upper()"
   ]
  },
  {
   "cell_type": "code",
   "execution_count": 12,
   "id": "b8f82a6c",
   "metadata": {},
   "outputs": [
    {
     "data": {
      "text/plain": [
       "'Python Is Necessary For Machine Learning.'"
      ]
     },
     "execution_count": 12,
     "metadata": {},
     "output_type": "execute_result"
    }
   ],
   "source": [
    "# Capital the first character of string\n",
    "my_str.title()"
   ]
  },
  {
   "cell_type": "code",
   "execution_count": 13,
   "id": "69a51907",
   "metadata": {},
   "outputs": [
    {
     "data": {
      "text/plain": [
       "0"
      ]
     },
     "execution_count": 13,
     "metadata": {},
     "output_type": "execute_result"
    }
   ],
   "source": [
    "# return the index of first occurance of word, -1 otherwise\n",
    "my_str.find(\"Python\")\n",
    "\n",
    "# my_str.find(\"Hi\")"
   ]
  },
  {
   "cell_type": "code",
   "execution_count": 14,
   "id": "0c7706ab",
   "metadata": {},
   "outputs": [
    {
     "data": {
      "text/plain": [
       "['Python', 'is', 'necessary', 'for', 'Machine', 'Learning.']"
      ]
     },
     "execution_count": 14,
     "metadata": {},
     "output_type": "execute_result"
    }
   ],
   "source": [
    "# split the string with \" \" and create a list\n",
    "my_str.split(\" \")"
   ]
  },
  {
   "cell_type": "code",
   "execution_count": null,
   "id": "dbb5a9c5",
   "metadata": {},
   "outputs": [],
   "source": []
  },
  {
   "cell_type": "markdown",
   "id": "867cc719",
   "metadata": {},
   "source": [
    "**Few Operation on string**\n"
   ]
  },
  {
   "cell_type": "code",
   "execution_count": 15,
   "id": "b9581f2f",
   "metadata": {},
   "outputs": [
    {
     "name": "stdout",
     "output_type": "stream",
     "text": [
      "abcdefgh\n"
     ]
    }
   ],
   "source": [
    "# concatenating two string \n",
    "print(\"abc\" + 'defgh')"
   ]
  },
  {
   "cell_type": "code",
   "execution_count": 16,
   "id": "53f2320a",
   "metadata": {},
   "outputs": [
    {
     "ename": "TypeError",
     "evalue": "can only concatenate str (not \"int\") to str",
     "output_type": "error",
     "traceback": [
      "\u001b[0;31m---------------------------------------------------------------------------\u001b[0m",
      "\u001b[0;31mTypeError\u001b[0m                                 Traceback (most recent call last)",
      "Cell \u001b[0;32mIn[16], line 2\u001b[0m\n\u001b[1;32m      1\u001b[0m \u001b[38;5;66;03m# concatenating one string and one integer\u001b[39;00m\n\u001b[0;32m----> 2\u001b[0m \u001b[38;5;28mprint\u001b[39m(\u001b[38;5;124m\"\u001b[39m\u001b[38;5;124mabc\u001b[39m\u001b[38;5;124m\"\u001b[39m \u001b[38;5;241m+\u001b[39m \u001b[38;5;241m1\u001b[39m)\n",
      "\u001b[0;31mTypeError\u001b[0m: can only concatenate str (not \"int\") to str"
     ]
    }
   ],
   "source": [
    "# concatenating one string and one integer\n",
    "print(\"abc\" + 1)"
   ]
  },
  {
   "cell_type": "code",
   "execution_count": 17,
   "id": "0b15a982",
   "metadata": {},
   "outputs": [
    {
     "name": "stdout",
     "output_type": "stream",
     "text": [
      "abc1\n"
     ]
    }
   ],
   "source": [
    "# concatenating one string and integer by type casting int. \n",
    "print(\"abc\" + str(1))"
   ]
  },
  {
   "cell_type": "code",
   "execution_count": 36,
   "id": "d090cfa3",
   "metadata": {},
   "outputs": [
    {
     "name": "stdout",
     "output_type": "stream",
     "text": [
      "HelloHelloHello "
     ]
    }
   ],
   "source": [
    "# multiplication of int with string \n",
    "print(\"Hello\"*3)"
   ]
  }
 ],
 "metadata": {
  "kernelspec": {
   "display_name": "Python 3 (ipykernel)",
   "language": "python",
   "name": "python3"
  },
  "language_info": {
   "codemirror_mode": {
    "name": "ipython",
    "version": 3
   },
   "file_extension": ".py",
   "mimetype": "text/x-python",
   "name": "python",
   "nbconvert_exporter": "python",
   "pygments_lexer": "ipython3",
   "version": "3.11.7"
  }
 },
 "nbformat": 4,
 "nbformat_minor": 5
}
