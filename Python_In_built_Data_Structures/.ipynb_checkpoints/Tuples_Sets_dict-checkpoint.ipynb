{
 "cells": [
  {
   "cell_type": "markdown",
   "id": "e461bf43",
   "metadata": {},
   "source": [
    "**Tupels** similar to list but read-only, ordered collection of items. It is indexable but immutable. Tuples are faster then list. "
   ]
  },
  {
   "cell_type": "code",
   "execution_count": 1,
   "id": "a517d853",
   "metadata": {},
   "outputs": [
    {
     "name": "stdout",
     "output_type": "stream",
     "text": [
      "(1, 2, 3, 'HI', 4, 5)\n"
     ]
    },
    {
     "data": {
      "text/plain": [
       "tuple"
      ]
     },
     "execution_count": 1,
     "metadata": {},
     "output_type": "execute_result"
    }
   ],
   "source": [
    "my_tuples = (1, 2, 3, \"HI\", 4, 5)\n",
    "print(my_tuples)\n",
    "type(my_tuples)"
   ]
  },
  {
   "cell_type": "code",
   "execution_count": 2,
   "id": "e6eab73a",
   "metadata": {},
   "outputs": [
    {
     "name": "stdout",
     "output_type": "stream",
     "text": [
      "1\n",
      "(1, 2, 3)\n",
      "5\n"
     ]
    }
   ],
   "source": [
    "# indexing and slicing \n",
    "print(my_tuples[0])\n",
    "print(my_tuples[0:3])\n",
    "print(my_tuples[-1])"
   ]
  },
  {
   "cell_type": "code",
   "execution_count": 3,
   "id": "577a24ff",
   "metadata": {},
   "outputs": [
    {
     "ename": "TypeError",
     "evalue": "'tuple' object does not support item assignment",
     "output_type": "error",
     "traceback": [
      "\u001b[0;31m---------------------------------------------------------------------------\u001b[0m",
      "\u001b[0;31mTypeError\u001b[0m                                 Traceback (most recent call last)",
      "Cell \u001b[0;32mIn[3], line 2\u001b[0m\n\u001b[1;32m      1\u001b[0m \u001b[38;5;66;03m# can't change the value because of immutable \u001b[39;00m\n\u001b[0;32m----> 2\u001b[0m my_tuples[\u001b[38;5;241m0\u001b[39m] \u001b[38;5;241m=\u001b[39m \u001b[38;5;241m1\u001b[39m\n",
      "\u001b[0;31mTypeError\u001b[0m: 'tuple' object does not support item assignment"
     ]
    }
   ],
   "source": [
    "# can't change the value because of immutable \n",
    "my_tuples[0] = 1"
   ]
  },
  {
   "cell_type": "code",
   "execution_count": 4,
   "id": "5c136bc3",
   "metadata": {},
   "outputs": [
    {
     "name": "stdout",
     "output_type": "stream",
     "text": [
      "1\n",
      "2\n",
      "3\n",
      "HI\n",
      "4\n",
      "5\n"
     ]
    }
   ],
   "source": [
    "for i in my_tuples:\n",
    "    print(i)"
   ]
  },
  {
   "cell_type": "code",
   "execution_count": null,
   "id": "7c66ef10",
   "metadata": {},
   "outputs": [],
   "source": []
  },
  {
   "cell_type": "markdown",
   "id": "2d80cec3",
   "metadata": {},
   "source": [
    "**Sets** contains unique value. It is unordered, undexable but mutable "
   ]
  },
  {
   "cell_type": "code",
   "execution_count": 5,
   "id": "8a02794f",
   "metadata": {},
   "outputs": [
    {
     "name": "stdout",
     "output_type": "stream",
     "text": [
      "{1, 2, 3, 4, 5, 6, 7, 8, 9}\n"
     ]
    },
    {
     "data": {
      "text/plain": [
       "set"
      ]
     },
     "execution_count": 5,
     "metadata": {},
     "output_type": "execute_result"
    }
   ],
   "source": [
    "my_sets = {1,1,2,2,3,3,4,5,6,7,7,8,9}\n",
    "print(my_sets)\n",
    "type(my_sets)"
   ]
  },
  {
   "cell_type": "code",
   "execution_count": 6,
   "id": "5fe6c282",
   "metadata": {},
   "outputs": [
    {
     "name": "stdout",
     "output_type": "stream",
     "text": [
      "{1, 2, 3, 4, 5, 6, 7, 8, 9, 10}\n",
      "{1, 2, 3, 4, 5, 6, 7, 8, 9, 10}\n"
     ]
    }
   ],
   "source": [
    "# no matter how many times you add similar value you get only once.\n",
    "my_sets.add(10)\n",
    "print(my_sets)\n",
    "\n",
    "my_sets.add(10)\n",
    "print(my_sets)"
   ]
  },
  {
   "cell_type": "code",
   "execution_count": 7,
   "id": "da117758",
   "metadata": {},
   "outputs": [
    {
     "name": "stdout",
     "output_type": "stream",
     "text": [
      "{1, 2, 3, 4, 5, 6, 7, 8, 9}\n"
     ]
    }
   ],
   "source": [
    "# removing item in sets \n",
    "my_sets.remove(10)\n",
    "print(my_sets)"
   ]
  },
  {
   "cell_type": "code",
   "execution_count": null,
   "id": "cf7d5875",
   "metadata": {},
   "outputs": [],
   "source": []
  },
  {
   "cell_type": "markdown",
   "id": "55e6b50d",
   "metadata": {},
   "source": [
    "**Remove Duplicates** from list "
   ]
  },
  {
   "cell_type": "code",
   "execution_count": 8,
   "id": "3a3f838e",
   "metadata": {},
   "outputs": [
    {
     "name": "stdout",
     "output_type": "stream",
     "text": [
      "[1, 1, 2, 2, 3, 3, 4, 5, 6, 7, 7, 8, 9]\n"
     ]
    }
   ],
   "source": [
    "my_list = [1,1,2,2,3,3,4,5,6,7,7,8,9]\n",
    "print(my_list)"
   ]
  },
  {
   "cell_type": "code",
   "execution_count": 9,
   "id": "d08781bc",
   "metadata": {},
   "outputs": [
    {
     "name": "stdout",
     "output_type": "stream",
     "text": [
      "{1, 2, 3, 4, 5, 6, 7, 8, 9}\n"
     ]
    }
   ],
   "source": [
    "new_list = set(my_list)\n",
    "print(new_list)"
   ]
  },
  {
   "cell_type": "code",
   "execution_count": 10,
   "id": "a499a2f5",
   "metadata": {},
   "outputs": [
    {
     "name": "stdout",
     "output_type": "stream",
     "text": [
      "[1, 2, 3, 4, 5, 6, 7, 8, 9]\n"
     ]
    }
   ],
   "source": [
    "my_list = list(new_list)\n",
    "print(my_list)"
   ]
  },
  {
   "cell_type": "code",
   "execution_count": null,
   "id": "0a98d5eb",
   "metadata": {},
   "outputs": [],
   "source": []
  },
  {
   "cell_type": "markdown",
   "id": "4b6ecb1f",
   "metadata": {},
   "source": [
    "**Dictionary** store data in key:value pair, It is onordered, unindexable but access the value with help of key.\n"
   ]
  },
  {
   "cell_type": "code",
   "execution_count": 11,
   "id": "b96a5100",
   "metadata": {},
   "outputs": [
    {
     "name": "stdout",
     "output_type": "stream",
     "text": [
      "{'Name': 'Abishek', 'Caste': 'Limbu', 'Nationality': 'Nepali'}\n"
     ]
    },
    {
     "data": {
      "text/plain": [
       "dict"
      ]
     },
     "execution_count": 11,
     "metadata": {},
     "output_type": "execute_result"
    }
   ],
   "source": [
    "user_info ={\n",
    "    \"Name\": \"Abishek\",\n",
    "    \"Caste\": \"Limbu\",\n",
    "    \"Nationality\": \"Nepali\"\n",
    "}\n",
    "print(user_info)\n",
    "type(user_info)"
   ]
  },
  {
   "cell_type": "code",
   "execution_count": 12,
   "id": "b4300664",
   "metadata": {},
   "outputs": [
    {
     "name": "stdout",
     "output_type": "stream",
     "text": [
      "Abishek\n",
      "Limbu\n"
     ]
    },
    {
     "ename": "KeyError",
     "evalue": "'hobby'",
     "output_type": "error",
     "traceback": [
      "\u001b[0;31m---------------------------------------------------------------------------\u001b[0m",
      "\u001b[0;31mKeyError\u001b[0m                                  Traceback (most recent call last)",
      "Cell \u001b[0;32mIn[12], line 4\u001b[0m\n\u001b[1;32m      2\u001b[0m \u001b[38;5;28mprint\u001b[39m(user_info[\u001b[38;5;124m\"\u001b[39m\u001b[38;5;124mName\u001b[39m\u001b[38;5;124m\"\u001b[39m])\n\u001b[1;32m      3\u001b[0m \u001b[38;5;28mprint\u001b[39m(user_info[\u001b[38;5;124m\"\u001b[39m\u001b[38;5;124mCaste\u001b[39m\u001b[38;5;124m\"\u001b[39m])\n\u001b[0;32m----> 4\u001b[0m \u001b[38;5;28mprint\u001b[39m(user_info[\u001b[38;5;124m\"\u001b[39m\u001b[38;5;124mhobby\u001b[39m\u001b[38;5;124m\"\u001b[39m])\n",
      "\u001b[0;31mKeyError\u001b[0m: 'hobby'"
     ]
    }
   ],
   "source": [
    "# accessing values with the help of key \n",
    "print(user_info[\"Name\"])\n",
    "print(user_info[\"Caste\"])\n",
    "print(user_info[\"hobby\"])"
   ]
  },
  {
   "cell_type": "code",
   "execution_count": 13,
   "id": "cd4bba4a",
   "metadata": {},
   "outputs": [],
   "source": [
    "# adding data in dictionary\n",
    "user_info[\"Hobby\"] = [\"Coding\", \"Playing Football\"]"
   ]
  },
  {
   "cell_type": "code",
   "execution_count": 14,
   "id": "f26bef9f",
   "metadata": {},
   "outputs": [
    {
     "name": "stdout",
     "output_type": "stream",
     "text": [
      "{'Name': 'Abishek', 'Caste': 'Limbu', 'Nationality': 'Nepali', 'Hobby': ['Coding', 'Playing Football']}\n"
     ]
    }
   ],
   "source": [
    "print(user_info)"
   ]
  },
  {
   "cell_type": "code",
   "execution_count": 21,
   "id": "8ea13781",
   "metadata": {},
   "outputs": [
    {
     "name": "stdout",
     "output_type": "stream",
     "text": [
      "{'Name': 'Abishek', 'Caste': 'Limbu', 'Nationality': 'Nepali', 'Hobby': ['Coding', 'Playing Football']}\n"
     ]
    }
   ],
   "source": [
    "# deleting key/values\n",
    "user_info.pop(\"hobby\")\n",
    "print(user_info)"
   ]
  },
  {
   "cell_type": "code",
   "execution_count": 22,
   "id": "0578ab4f",
   "metadata": {},
   "outputs": [
    {
     "data": {
      "text/plain": [
       "dict_keys(['Name', 'Caste', 'Nationality', 'Hobby'])"
      ]
     },
     "execution_count": 22,
     "metadata": {},
     "output_type": "execute_result"
    }
   ],
   "source": [
    "# displays all keys \n",
    "user_info.keys()"
   ]
  },
  {
   "cell_type": "code",
   "execution_count": 23,
   "id": "7502ad6e",
   "metadata": {},
   "outputs": [
    {
     "data": {
      "text/plain": [
       "dict_values(['Abishek', 'Limbu', 'Nepali', ['Coding', 'Playing Football']])"
      ]
     },
     "execution_count": 23,
     "metadata": {},
     "output_type": "execute_result"
    }
   ],
   "source": [
    "# displays all values\n",
    "user_info.values()"
   ]
  },
  {
   "cell_type": "code",
   "execution_count": 24,
   "id": "149cbaf5",
   "metadata": {},
   "outputs": [
    {
     "data": {
      "text/plain": [
       "dict_items([('Name', 'Abishek'), ('Caste', 'Limbu'), ('Nationality', 'Nepali'), ('Hobby', ['Coding', 'Playing Football'])])"
      ]
     },
     "execution_count": 24,
     "metadata": {},
     "output_type": "execute_result"
    }
   ],
   "source": [
    "# displays keys, values in tuples \n",
    "user_info.items()"
   ]
  },
  {
   "cell_type": "code",
   "execution_count": 29,
   "id": "bec584a4",
   "metadata": {},
   "outputs": [
    {
     "name": "stdout",
     "output_type": "stream",
     "text": [
      "Name : Abishek\n",
      "Caste : Limbu\n",
      "Nationality : Nepali\n",
      "Hobby : ['Coding', 'Playing Football']\n"
     ]
    }
   ],
   "source": [
    "# priting key and values using for loop \n",
    "for k,v in user_info.items():\n",
    "    print(k, \":\", v)"
   ]
  },
  {
   "cell_type": "code",
   "execution_count": 30,
   "id": "83bc0342",
   "metadata": {},
   "outputs": [
    {
     "name": "stdout",
     "output_type": "stream",
     "text": [
      "{'Name': 'Nishan', 'Caste': 'Limbu', 'Nationality': 'Nepali', 'Hobby': ['Coding', 'Playing Football']}\n"
     ]
    }
   ],
   "source": [
    "# Update name\n",
    "user_info[\"Name\"] = \"Nishan\"\n",
    "print(user_info)"
   ]
  },
  {
   "cell_type": "code",
   "execution_count": null,
   "id": "16624a6c",
   "metadata": {},
   "outputs": [],
   "source": []
  }
 ],
 "metadata": {
  "kernelspec": {
   "display_name": "Python 3 (ipykernel)",
   "language": "python",
   "name": "python3"
  },
  "language_info": {
   "codemirror_mode": {
    "name": "ipython",
    "version": 3
   },
   "file_extension": ".py",
   "mimetype": "text/x-python",
   "name": "python",
   "nbconvert_exporter": "python",
   "pygments_lexer": "ipython3",
   "version": "3.11.7"
  }
 },
 "nbformat": 4,
 "nbformat_minor": 5
}
