{
 "cells": [
  {
   "cell_type": "markdown",
   "id": "42ecae08",
   "metadata": {},
   "source": [
    "Mean is the average of the given numbers.  \n",
    "\n",
    "Mode is the most occurance of number or can be said as most repeated numbers.\n",
    "\n",
    "Median is the centeral value of the list of number. "
   ]
  },
  {
   "cell_type": "code",
   "execution_count": 4,
   "id": "5722236c",
   "metadata": {},
   "outputs": [
    {
     "name": "stdout",
     "output_type": "stream",
     "text": [
      "[75, 82, 71, 92, 48, 75, 97, 59, 62, 75, 82, 78, 66, 76, 71]\n",
      "\n",
      "Mean Marks = 74\n"
     ]
    }
   ],
   "source": [
    "# Mean\n",
    "marks = [ 75, 82, 71, 92, 48, 75, 97, 59, 62, 75, 82, 78, 66, 76, 71]\n",
    "print(marks)\n",
    "\n",
    "mean_marks = sum(marks)/len(marks)\n",
    "print(\"\\nMean Marks =\", round(mean_marks))"
   ]
  },
  {
   "cell_type": "code",
   "execution_count": 5,
   "id": "b99b4a47",
   "metadata": {},
   "outputs": [
    {
     "name": "stdout",
     "output_type": "stream",
     "text": [
      "[75, 82, 71, 92, 48, 75, 97, 59, 62, 75, 82, 78, 66, 76, 71]\n",
      "\n",
      "Sorted Marks = [48, 59, 62, 66, 71, 71, 75, 75, 75, 76, 78, 82, 82, 92, 97]\n",
      "\n",
      "Index = 7\n",
      "\n",
      "Median Marks = 75\n"
     ]
    }
   ],
   "source": [
    "# Median \n",
    "# incase of odd\n",
    "print(marks)\n",
    "\n",
    "sorted_marks = sorted(marks)\n",
    "print(\"\\nSorted Marks =\",sorted_marks)\n",
    "\n",
    "index = len(sorted_marks)//2\n",
    "print(\"\\nIndex =\",index)\n",
    "\n",
    "median =sorted_marks[index]\n",
    "print(\"\\nMedian Marks =\",median)"
   ]
  },
  {
   "cell_type": "code",
   "execution_count": 6,
   "id": "32f91f56",
   "metadata": {},
   "outputs": [
    {
     "name": "stdout",
     "output_type": "stream",
     "text": [
      "Unsorted Marks = [10, 30, 40, 20, 50, 70, 60, 80]\n",
      "\n",
      "Sorted Marks= [10, 20, 30, 40, 50, 60, 70, 80]\n",
      "\n",
      "index_1 = 4\n",
      "\n",
      "index_2 = 5\n",
      "\n",
      "(50, 60)\n",
      "\n",
      "Median = 55\n"
     ]
    }
   ],
   "source": [
    "# incase of even\n",
    "marks = [10,30,40,20,50,70,60,80]\n",
    "print(\"Unsorted Marks =\",marks)\n",
    "\n",
    "sorted_marks = sorted(marks)\n",
    "print(\"\\nSorted Marks=\",sorted_marks)\n",
    "print()\n",
    "\n",
    "index1 = len(sorted_marks)//2\n",
    "print(\"index_1 =\",index1)\n",
    "print()\n",
    "index2 = index1 + 1\n",
    "print(\"index_2 =\",index2)\n",
    "print()\n",
    "\n",
    "two_value = sorted_marks[index1], sorted_marks[index2]\n",
    "print(two_value)\n",
    "\n",
    "mean = sum(two_value)/len(two_value)\n",
    "print(\"\\nMedian =\",round(mean))"
   ]
  },
  {
   "cell_type": "code",
   "execution_count": null,
   "id": "1f5ce6ec",
   "metadata": {},
   "outputs": [],
   "source": []
  },
  {
   "cell_type": "code",
   "execution_count": 7,
   "id": "050ebc5d",
   "metadata": {},
   "outputs": [
    {
     "name": "stdout",
     "output_type": "stream",
     "text": [
      "[75, 82, 71, 92, 48, 75, 97, 59, 62, 75, 82, 78, 66, 76, 71]\n",
      "{75: 3, 82: 2, 71: 2, 92: 1, 48: 1, 97: 1, 59: 1, 62: 1, 78: 1, 66: 1, 76: 1}\n",
      "\n",
      "75 3\n",
      "82 2\n",
      "71 2\n",
      "92 1\n",
      "48 1\n",
      "97 1\n",
      "59 1\n",
      "62 1\n",
      "78 1\n",
      "66 1\n",
      "76 1\n",
      "\n",
      "Mode = 75\n",
      "\n",
      "_max = 3\n"
     ]
    }
   ],
   "source": [
    "# Mode\n",
    "marks = [ 75, 82, 71, 92, 48, 75, 97, 59, 62, 75, 82, 78, 66, 76, 71]\n",
    "print(marks)\n",
    "\n",
    "dic = {}\n",
    "for i in marks:\n",
    "    if i in dic.keys():\n",
    "        dic[i] += 1\n",
    "    else:\n",
    "        dic[i] = 1\n",
    "print(dic)\n",
    "print()\n",
    "\n",
    "_max = -1\n",
    "Mode = None\n",
    "for k,v in dic.items():\n",
    "    print(k,v)\n",
    "    if v>_max:\n",
    "        mode = k\n",
    "        _max =v\n",
    "print(\"\\nMode =\",mode)\n",
    "print(\"\\n_max =\",_max)"
   ]
  },
  {
   "cell_type": "code",
   "execution_count": 8,
   "id": "b3bcd6a5",
   "metadata": {},
   "outputs": [
    {
     "name": "stdout",
     "output_type": "stream",
     "text": [
      "[75, 82, 71, 92, 48, 75, 97, 59, 62, 75, 82, 78, 66, 76, 71]\n"
     ]
    }
   ],
   "source": [
    "marks = [ 75, 82, 71, 92, 48, 75, 97, 59, 62, 75, 82, 78, 66, 76, 71]\n",
    "print(marks)"
   ]
  },
  {
   "cell_type": "code",
   "execution_count": 9,
   "id": "bad1f640",
   "metadata": {},
   "outputs": [
    {
     "name": "stdout",
     "output_type": "stream",
     "text": [
      "49\n"
     ]
    }
   ],
   "source": [
    "# Range is a measure of how spread out the values in a data set are. It is the difference between the \n",
    "# highest and lowest values in the data set. Formula: Range = Maximum value−Minimum value\n",
    "\n",
    "range_marks = max(marks) - min(marks)\n",
    "print(range_marks)"
   ]
  },
  {
   "attachments": {},
   "cell_type": "markdown",
   "id": "ec7a63a4",
   "metadata": {},
   "source": [
    "Variance measures how much the values in a data set differ from the mean (average) of the data set. It gives an idea of the overall spread of the data. We are using population formula.\n",
    "\n",
    "![ALT_TEXT_FOR_SCREEN_READERS](https://cdn1.byjus.com/wp-content/uploads/2022/10/Variance-and-Standard-Deviation.png)\n",
    "\n",
    "\n",
    "\n",
    "\n",
    "\n",
    "\n"
   ]
  },
  {
   "cell_type": "code",
   "execution_count": 15,
   "id": "bb9570a1",
   "metadata": {},
   "outputs": [
    {
     "name": "stdout",
     "output_type": "stream",
     "text": [
      "2131\n"
     ]
    }
   ],
   "source": [
    "sum_ = 0\n",
    "for i in range(len(marks)):\n",
    "    sum_ +=(marks[i] - round(mean_marks))**2\n",
    "print(sum_)"
   ]
  },
  {
   "cell_type": "code",
   "execution_count": 26,
   "id": "5cbd13e5",
   "metadata": {},
   "outputs": [
    {
     "name": "stdout",
     "output_type": "stream",
     "text": [
      "variance = 142.07\n"
     ]
    }
   ],
   "source": [
    "variance = sum_/len(marks)\n",
    "print(f\"variance = {variance:.2f}\")"
   ]
  },
  {
   "cell_type": "code",
   "execution_count": null,
   "id": "1e866c11",
   "metadata": {},
   "outputs": [],
   "source": []
  },
  {
   "cell_type": "markdown",
   "id": "8d303eef",
   "metadata": {},
   "source": [
    "Standard Deviation\n",
    "Meaning:\n",
    "\n",
    "Standard deviation is the square root of the variance.\n",
    "It provides a measure of the average distance of each data point from the mean.\n",
    "It is expressed in the same units as the data, making it more interpretable.\n"
   ]
  },
  {
   "cell_type": "code",
   "execution_count": 27,
   "id": "ab4d386d",
   "metadata": {},
   "outputs": [
    {
     "name": "stdout",
     "output_type": "stream",
     "text": [
      "12\n"
     ]
    }
   ],
   "source": [
    "Standard_Deviation = variance**0.5\n",
    "print(round(Standard_Deviation))"
   ]
  },
  {
   "cell_type": "code",
   "execution_count": 29,
   "id": "2e00e57e",
   "metadata": {},
   "outputs": [
    {
     "name": "stdout",
     "output_type": "stream",
     "text": [
      "12\n"
     ]
    }
   ],
   "source": [
    "# OR Using math modules\n",
    "from math import sqrt\n",
    "std = sqrt(variance)\n",
    "print(round(std))"
   ]
  },
  {
   "cell_type": "code",
   "execution_count": null,
   "id": "de216c09",
   "metadata": {},
   "outputs": [],
   "source": []
  }
 ],
 "metadata": {
  "kernelspec": {
   "display_name": "Python 3 (ipykernel)",
   "language": "python",
   "name": "python3"
  },
  "language_info": {
   "codemirror_mode": {
    "name": "ipython",
    "version": 3
   },
   "file_extension": ".py",
   "mimetype": "text/x-python",
   "name": "python",
   "nbconvert_exporter": "python",
   "pygments_lexer": "ipython3",
   "version": "3.11.7"
  }
 },
 "nbformat": 4,
 "nbformat_minor": 5
}
