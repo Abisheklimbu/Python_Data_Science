{
 "cells": [
  {
   "cell_type": "markdown",
   "id": "089fe5e3-04b1-4d3c-8f55-733ccd593aa7",
   "metadata": {},
   "source": [
    "##### Selenium\n",
    "1. a framework to automate a web browser.\n",
    "2. generally used for testing web applications.\n",
    "\n",
    "#### Web Drivers\n",
    "1. Web Drivers in selenium connects the code(Python) with the real browsers."
   ]
  },
  {
   "cell_type": "code",
   "execution_count": 8,
   "id": "6a8e8d7e-f8fd-4be6-9570-a88ef78ae8aa",
   "metadata": {},
   "outputs": [],
   "source": [
    "# !pip install selenium"
   ]
  },
  {
   "cell_type": "code",
   "execution_count": 62,
   "id": "da1504d8-9460-4ebd-993f-6b8d5c4fef0e",
   "metadata": {},
   "outputs": [],
   "source": [
    "from selenium import webdriver\n",
    "\n",
    "# Create a new instance of the Safari driver\n",
    "driver = webdriver.Safari()"
   ]
  },
  {
   "cell_type": "code",
   "execution_count": 36,
   "id": "909af2fa-cf61-4f4b-8013-34c3e018db47",
   "metadata": {},
   "outputs": [],
   "source": [
    "driver.get('https://www.google.com')"
   ]
  },
  {
   "cell_type": "code",
   "execution_count": 50,
   "id": "caa997ac-508a-4091-89f4-a4f0d2b59486",
   "metadata": {},
   "outputs": [],
   "source": [
    "# title_element = driver.find_element(By.TAG_NAME, 'title')\n",
    "# print(title_element.text)"
   ]
  },
  {
   "cell_type": "code",
   "execution_count": 52,
   "id": "137a61b5-3b41-4ea3-8a67-92700475189a",
   "metadata": {},
   "outputs": [
    {
     "name": "stdout",
     "output_type": "stream",
     "text": [
      "Google\n"
     ]
    }
   ],
   "source": [
    "page_title = driver.title\n",
    "print(page_title)"
   ]
  },
  {
   "cell_type": "code",
   "execution_count": 186,
   "id": "fe103fd3-3bc0-4a88-85f5-15789f9055ac",
   "metadata": {},
   "outputs": [],
   "source": [
    "driver.quit()"
   ]
  },
  {
   "cell_type": "code",
   "execution_count": null,
   "id": "26403bfe-9636-4ab6-8ba1-2431b31633f9",
   "metadata": {},
   "outputs": [],
   "source": []
  },
  {
   "cell_type": "code",
   "execution_count": 141,
   "id": "88ab9e9b-34af-4247-bd7b-f2e512e5b8c3",
   "metadata": {},
   "outputs": [],
   "source": [
    "from selenium import webdriver\n",
    "from selenium.webdriver.common.by import By\n",
    "\n",
    "# Create a new instance of the Safari driver\n",
    "driver = webdriver.Safari()"
   ]
  },
  {
   "cell_type": "code",
   "execution_count": 177,
   "id": "8d293dec-1807-4918-a11a-6586a29b6dd4",
   "metadata": {},
   "outputs": [],
   "source": [
    "# Set the desired width and height\n",
    "desired_width = 1480\n",
    "desired_height = 1000\n",
    "driver.set_window_size(desired_width, desired_height)"
   ]
  },
  {
   "cell_type": "code",
   "execution_count": 145,
   "id": "232931c3-cbc1-4a46-88bf-99bb9c3eb97e",
   "metadata": {},
   "outputs": [],
   "source": [
    "driver.get('https://www.tutorialspoint.com/selenium/practice/register.php')"
   ]
  },
  {
   "cell_type": "code",
   "execution_count": 146,
   "id": "96a07126-fe95-40d1-9781-1b488d6dffb1",
   "metadata": {},
   "outputs": [],
   "source": [
    "first_name = driver.find_element(By.ID, 'firstname')"
   ]
  },
  {
   "cell_type": "code",
   "execution_count": 147,
   "id": "2810578f-fd1d-466e-a624-8215e138f140",
   "metadata": {},
   "outputs": [
    {
     "data": {
      "text/plain": [
       "'First Name'"
      ]
     },
     "execution_count": 147,
     "metadata": {},
     "output_type": "execute_result"
    }
   ],
   "source": [
    "first_name.get_attribute('placeholder')"
   ]
  },
  {
   "cell_type": "code",
   "execution_count": 148,
   "id": "b2fbf56b-5771-4659-adec-57c276f2bc07",
   "metadata": {},
   "outputs": [
    {
     "data": {
      "text/plain": [
       "'lastname'"
      ]
     },
     "execution_count": 148,
     "metadata": {},
     "output_type": "execute_result"
    }
   ],
   "source": [
    "last_name  = driver.find_element(By.ID, 'lastname')\n",
    "last_name.get_attribute('placeholder')"
   ]
  },
  {
   "cell_type": "code",
   "execution_count": 153,
   "id": "d558ac65-e6fe-4b62-a320-5491fc192971",
   "metadata": {},
   "outputs": [
    {
     "data": {
      "text/plain": [
       "'UserName'"
      ]
     },
     "execution_count": 153,
     "metadata": {},
     "output_type": "execute_result"
    }
   ],
   "source": [
    "user_name  = driver.find_element(By.ID, 'username')\n",
    "user_name.get_attribute('placeholder')"
   ]
  },
  {
   "cell_type": "code",
   "execution_count": 155,
   "id": "945db99d-61b5-4eea-aca5-687c5ccd5974",
   "metadata": {},
   "outputs": [
    {
     "data": {
      "text/plain": [
       "'Password'"
      ]
     },
     "execution_count": 155,
     "metadata": {},
     "output_type": "execute_result"
    }
   ],
   "source": [
    "password  = driver.find_element(By.ID, 'password')\n",
    "password.get_attribute('placeholder')"
   ]
  },
  {
   "cell_type": "code",
   "execution_count": 157,
   "id": "7805be57-20ca-4e77-9fea-c50699487492",
   "metadata": {},
   "outputs": [],
   "source": [
    "first_name_msg = \"Abishek\"\n",
    "last_name_msg = \"Limbu\"\n",
    "user_name_msg =\"abishek@gmail.com\"\n",
    "password_msg = \"abishek123\""
   ]
  },
  {
   "cell_type": "code",
   "execution_count": 159,
   "id": "2c8ca869-a4e7-4d7b-91c2-4136b157c721",
   "metadata": {},
   "outputs": [],
   "source": [
    "first_name.clear()\n",
    "last_name.clear()\n",
    "user_name.clear()\n",
    "password.clear()"
   ]
  },
  {
   "cell_type": "code",
   "execution_count": 161,
   "id": "9d795dc8-1fd9-447b-bfbf-b5736ab316a6",
   "metadata": {},
   "outputs": [],
   "source": [
    "first_name.send_keys(first_name_msg)\n",
    "last_name.send_keys(last_name_msg)\n",
    "user_name.send_keys(user_name_msg)\n",
    "password.send_keys(password_msg)"
   ]
  },
  {
   "cell_type": "code",
   "execution_count": 165,
   "id": "59ed4e15-b232-4b8f-8a5f-90d74cf80582",
   "metadata": {},
   "outputs": [],
   "source": [
    "sub_btn = driver.find_element(By.XPATH, '/html/body/main/div/div/div[2]/form/div[5]/input')"
   ]
  },
  {
   "cell_type": "code",
   "execution_count": 179,
   "id": "2b1ff074-9593-4e9f-9cfb-36cea72a8d23",
   "metadata": {},
   "outputs": [
    {
     "data": {
      "text/plain": [
       "'Register'"
      ]
     },
     "execution_count": 179,
     "metadata": {},
     "output_type": "execute_result"
    }
   ],
   "source": [
    "sub_btn.get_attribute('value')"
   ]
  },
  {
   "cell_type": "code",
   "execution_count": 171,
   "id": "2fb799b6-351d-40d7-b91d-157847021c4e",
   "metadata": {},
   "outputs": [],
   "source": [
    "sub_btn.click()"
   ]
  },
  {
   "cell_type": "code",
   "execution_count": null,
   "id": "e9459151-2149-4aaf-ae5b-de3c1b1dcb06",
   "metadata": {},
   "outputs": [],
   "source": [
    "driver.quit()"
   ]
  },
  {
   "cell_type": "code",
   "execution_count": null,
   "id": "cf4cba60-ff4c-4e70-ac07-7126145270af",
   "metadata": {},
   "outputs": [],
   "source": []
  },
  {
   "cell_type": "code",
   "execution_count": null,
   "id": "e240d2d8-2799-480c-92c9-d306c1912d74",
   "metadata": {},
   "outputs": [],
   "source": []
  },
  {
   "cell_type": "code",
   "execution_count": 290,
   "id": "8e4e1658-9afe-48e8-8089-49df210cc61a",
   "metadata": {},
   "outputs": [],
   "source": [
    "from selenium import webdriver\n",
    "from selenium.webdriver.common.by import By\n",
    "\n",
    "driver = webdriver.Safari()"
   ]
  },
  {
   "cell_type": "code",
   "execution_count": 292,
   "id": "0210a4cc-ff0f-4c02-9a5d-03b868c56cad",
   "metadata": {},
   "outputs": [],
   "source": [
    "driver.get('http://127.0.0.1:5500/Web_Automation_Selenium/index.html')"
   ]
  },
  {
   "cell_type": "code",
   "execution_count": 294,
   "id": "84e3d4b6-9824-49d2-a9db-a267b34668ee",
   "metadata": {},
   "outputs": [],
   "source": [
    "width = 1480\n",
    "height = 1000\n",
    "driver.set_window_size(width, height)"
   ]
  },
  {
   "cell_type": "code",
   "execution_count": 379,
   "id": "0a614c1c-15c2-4c83-9f2f-059c4556067b",
   "metadata": {},
   "outputs": [],
   "source": [
    "input_box = driver.find_element(By.XPATH, '//*[@id=\"inputField\"]')"
   ]
  },
  {
   "cell_type": "code",
   "execution_count": 381,
   "id": "a74eff89-d676-4fb2-9e32-a50a3693e41e",
   "metadata": {},
   "outputs": [
    {
     "data": {
      "text/plain": [
       "'Type something...'"
      ]
     },
     "execution_count": 381,
     "metadata": {},
     "output_type": "execute_result"
    }
   ],
   "source": [
    "input_box.get_attribute('placeholder')"
   ]
  },
  {
   "cell_type": "code",
   "execution_count": 383,
   "id": "b7c96f40-0954-4245-b50a-ddd01af2f9dd",
   "metadata": {},
   "outputs": [],
   "source": [
    "input_msg = \"This is my selenium practice\""
   ]
  },
  {
   "cell_type": "code",
   "execution_count": 385,
   "id": "645b9cb3-8ebd-4042-8046-efe9304baa01",
   "metadata": {},
   "outputs": [],
   "source": [
    "input_box.send_keys(input_msg)"
   ]
  },
  {
   "cell_type": "code",
   "execution_count": 387,
   "id": "97275efe-8eb5-425a-983e-a6cc269604b6",
   "metadata": {},
   "outputs": [],
   "source": [
    "sub_btn = driver.find_element(By.XPATH, '/html/body/div/form/button')"
   ]
  },
  {
   "cell_type": "code",
   "execution_count": 389,
   "id": "7071294a-87ac-4388-bb4c-bf18e57ac236",
   "metadata": {},
   "outputs": [
    {
     "data": {
      "text/plain": [
       "'submit'"
      ]
     },
     "execution_count": 389,
     "metadata": {},
     "output_type": "execute_result"
    }
   ],
   "source": [
    "sub_btn.get_attribute('placeholder')"
   ]
  },
  {
   "cell_type": "code",
   "execution_count": 391,
   "id": "f5dec3f1-a817-4313-9953-08513359fd35",
   "metadata": {},
   "outputs": [],
   "source": [
    "sub_btn.click()"
   ]
  },
  {
   "cell_type": "code",
   "execution_count": null,
   "id": "b575e32e-7b22-4909-b35f-64293e9a2ee7",
   "metadata": {},
   "outputs": [],
   "source": []
  },
  {
   "cell_type": "code",
   "execution_count": 396,
   "id": "51126b0d-8e16-480f-8b52-66738693476c",
   "metadata": {},
   "outputs": [
    {
     "data": {
      "text/plain": [
       "<selenium.webdriver.remote.webelement.WebElement (session=\"AAA83EEF-3E46-447A-84B5-6BD0BC1EE261\", element=\"node-F04910D7-277F-4DC3-A9E5-268ABF74ACD8\")>"
      ]
     },
     "execution_count": 396,
     "metadata": {},
     "output_type": "execute_result"
    }
   ],
   "source": [
    "output_msg"
   ]
  },
  {
   "cell_type": "code",
   "execution_count": 398,
   "id": "f143b1f5-a64c-4ee9-8404-12bc0d056b63",
   "metadata": {},
   "outputs": [
    {
     "data": {
      "text/plain": [
       "''"
      ]
     },
     "execution_count": 398,
     "metadata": {},
     "output_type": "execute_result"
    }
   ],
   "source": [
    "output_msg.text"
   ]
  },
  {
   "cell_type": "code",
   "execution_count": 400,
   "id": "ea1007e0-4cc8-435a-a3a5-e9e9116bd148",
   "metadata": {},
   "outputs": [
    {
     "data": {
      "text/plain": [
       "False"
      ]
     },
     "execution_count": 400,
     "metadata": {},
     "output_type": "execute_result"
    }
   ],
   "source": [
    "input_msg == output_msg"
   ]
  },
  {
   "cell_type": "code",
   "execution_count": 402,
   "id": "b771d026-8954-4bed-b193-a4f6feef4c8f",
   "metadata": {},
   "outputs": [],
   "source": [
    "driver.quit()"
   ]
  },
  {
   "cell_type": "code",
   "execution_count": null,
   "id": "9f53b6b6-6032-4361-affc-2cf516f57cd9",
   "metadata": {},
   "outputs": [],
   "source": []
  }
 ],
 "metadata": {
  "kernelspec": {
   "display_name": "Python 3 (ipykernel)",
   "language": "python",
   "name": "python3"
  },
  "language_info": {
   "codemirror_mode": {
    "name": "ipython",
    "version": 3
   },
   "file_extension": ".py",
   "mimetype": "text/x-python",
   "name": "python",
   "nbconvert_exporter": "python",
   "pygments_lexer": "ipython3",
   "version": "3.11.7"
  }
 },
 "nbformat": 4,
 "nbformat_minor": 5
}
