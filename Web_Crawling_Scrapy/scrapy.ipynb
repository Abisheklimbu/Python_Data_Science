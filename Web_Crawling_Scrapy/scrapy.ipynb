{
 "cells": [
  {
   "cell_type": "markdown",
   "id": "3eae21ca-2712-48a8-87b4-2b6ab8451000",
   "metadata": {},
   "source": [
    "#### Web crawling \n",
    "1. web crawling is a powerful technique to collect data from the web by finding all the URLs for one or multiple domains.\n",
    "\n",
    "#### Scrapy\n",
    "1. a python framework for web-crawling\n",
    "2. it can also be used for fetching data from APls or as a scraper."
   ]
  },
  {
   "cell_type": "code",
   "execution_count": 9,
   "id": "7d6e30f3-a4ed-44d4-8f72-00f34915e77c",
   "metadata": {},
   "outputs": [],
   "source": [
    "# ! pip install scrapy"
   ]
  },
  {
   "cell_type": "code",
   "execution_count": 11,
   "id": "8ed5716d-8004-4a22-bfed-98416cf02d2a",
   "metadata": {},
   "outputs": [
    {
     "name": "stdout",
     "output_type": "stream",
     "text": [
      "New Scrapy project 'quotescrawler', using template directory '/opt/anaconda3/lib/python3.11/site-packages/scrapy/templates/project', created in:\n",
      "    /Users/abisheklimbu/Desktop/PYTHON/Python_Data_Science_Github/Web_Crawling_Scrapy/quotescrawler\n",
      "\n",
      "You can start your first spider with:\n",
      "    cd quotescrawler\n",
      "    scrapy genspider example example.com\n"
     ]
    }
   ],
   "source": [
    "# ! scrapy startproject quotescrawler"
   ]
  },
  {
   "cell_type": "code",
   "execution_count": null,
   "id": "c46ddfa0-84d5-46f0-b249-6c093c87a424",
   "metadata": {},
   "outputs": [],
   "source": []
  }
 ],
 "metadata": {
  "kernelspec": {
   "display_name": "Python 3 (ipykernel)",
   "language": "python",
   "name": "python3"
  },
  "language_info": {
   "codemirror_mode": {
    "name": "ipython",
    "version": 3
   },
   "file_extension": ".py",
   "mimetype": "text/x-python",
   "name": "python",
   "nbconvert_exporter": "python",
   "pygments_lexer": "ipython3",
   "version": "3.11.7"
  }
 },
 "nbformat": 4,
 "nbformat_minor": 5
}
